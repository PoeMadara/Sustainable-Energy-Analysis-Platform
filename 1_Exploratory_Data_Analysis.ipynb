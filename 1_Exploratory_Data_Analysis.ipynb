{
 "cells": [
  {
   "cell_type": "code",
   "execution_count": 1,
   "metadata": {},
   "outputs": [
    {
     "name": "stdout",
     "output_type": "stream",
     "text": [
      "Cleaned file saved.\n"
     ]
    },
    {
     "ename": "KeyError",
     "evalue": "\"['hydro_consumption'] not in index\"",
     "output_type": "error",
     "traceback": [
      "\u001b[1;31m---------------------------------------------------------------------------\u001b[0m",
      "\u001b[1;31mKeyError\u001b[0m                                  Traceback (most recent call last)",
      "Cell \u001b[1;32mIn[1], line 30\u001b[0m\n\u001b[0;32m     27\u001b[0m df_cleaned \u001b[38;5;241m=\u001b[39m pd\u001b[38;5;241m.\u001b[39mread_csv(\u001b[38;5;124m'\u001b[39m\u001b[38;5;124mdata/clean/cleaned_data.csv\u001b[39m\u001b[38;5;124m'\u001b[39m)\n\u001b[0;32m     29\u001b[0m \u001b[38;5;66;03m# Continuar con las transformaciones y filtrado\u001b[39;00m\n\u001b[1;32m---> 30\u001b[0m df_filtered \u001b[38;5;241m=\u001b[39m \u001b[43mfilter_and_label_encode\u001b[49m\u001b[43m(\u001b[49m\u001b[43mdf_cleaned\u001b[49m\u001b[43m,\u001b[49m\u001b[43m \u001b[49m\u001b[43mcolumns_to_keep\u001b[49m\u001b[43m)\u001b[49m\n\u001b[0;32m     32\u001b[0m \u001b[38;5;66;03m# Step 3: Plot the correlation matrix\u001b[39;00m\n\u001b[0;32m     33\u001b[0m plot_correlation_matrix(df_filtered)\n",
      "File \u001b[1;32mc:\\Users\\Carlos\\Desktop\\Github cosas\\IRONHACK LABS\\Sustainable-Energy-Analysis-Platform\\functions.py:25\u001b[0m, in \u001b[0;36mfilter_and_label_encode\u001b[1;34m(df, columns_to_keep)\u001b[0m\n\u001b[0;32m     22\u001b[0m \u001b[38;5;28;01mdef\u001b[39;00m \u001b[38;5;21mfilter_and_label_encode\u001b[39m(df, columns_to_keep):\n\u001b[0;32m     23\u001b[0m     \n\u001b[0;32m     24\u001b[0m     \u001b[38;5;66;03m# Filter columns\u001b[39;00m\n\u001b[1;32m---> 25\u001b[0m     df_filtered \u001b[38;5;241m=\u001b[39m \u001b[43mdf\u001b[49m\u001b[43m[\u001b[49m\u001b[43mcolumns_to_keep\u001b[49m\u001b[43m]\u001b[49m\n\u001b[0;32m     27\u001b[0m     \u001b[38;5;66;03m# Apply Label Encoding to categorical columns\u001b[39;00m\n\u001b[0;32m     28\u001b[0m     le \u001b[38;5;241m=\u001b[39m LabelEncoder()\n",
      "File \u001b[1;32mc:\\Users\\Carlos\\anaconda3\\envs\\ml-dp\\lib\\site-packages\\pandas\\core\\frame.py:4108\u001b[0m, in \u001b[0;36mDataFrame.__getitem__\u001b[1;34m(self, key)\u001b[0m\n\u001b[0;32m   4106\u001b[0m     \u001b[38;5;28;01mif\u001b[39;00m is_iterator(key):\n\u001b[0;32m   4107\u001b[0m         key \u001b[38;5;241m=\u001b[39m \u001b[38;5;28mlist\u001b[39m(key)\n\u001b[1;32m-> 4108\u001b[0m     indexer \u001b[38;5;241m=\u001b[39m \u001b[38;5;28;43mself\u001b[39;49m\u001b[38;5;241;43m.\u001b[39;49m\u001b[43mcolumns\u001b[49m\u001b[38;5;241;43m.\u001b[39;49m\u001b[43m_get_indexer_strict\u001b[49m\u001b[43m(\u001b[49m\u001b[43mkey\u001b[49m\u001b[43m,\u001b[49m\u001b[43m \u001b[49m\u001b[38;5;124;43m\"\u001b[39;49m\u001b[38;5;124;43mcolumns\u001b[39;49m\u001b[38;5;124;43m\"\u001b[39;49m\u001b[43m)\u001b[49m[\u001b[38;5;241m1\u001b[39m]\n\u001b[0;32m   4110\u001b[0m \u001b[38;5;66;03m# take() does not accept boolean indexers\u001b[39;00m\n\u001b[0;32m   4111\u001b[0m \u001b[38;5;28;01mif\u001b[39;00m \u001b[38;5;28mgetattr\u001b[39m(indexer, \u001b[38;5;124m\"\u001b[39m\u001b[38;5;124mdtype\u001b[39m\u001b[38;5;124m\"\u001b[39m, \u001b[38;5;28;01mNone\u001b[39;00m) \u001b[38;5;241m==\u001b[39m \u001b[38;5;28mbool\u001b[39m:\n",
      "File \u001b[1;32mc:\\Users\\Carlos\\anaconda3\\envs\\ml-dp\\lib\\site-packages\\pandas\\core\\indexes\\base.py:6200\u001b[0m, in \u001b[0;36mIndex._get_indexer_strict\u001b[1;34m(self, key, axis_name)\u001b[0m\n\u001b[0;32m   6197\u001b[0m \u001b[38;5;28;01melse\u001b[39;00m:\n\u001b[0;32m   6198\u001b[0m     keyarr, indexer, new_indexer \u001b[38;5;241m=\u001b[39m \u001b[38;5;28mself\u001b[39m\u001b[38;5;241m.\u001b[39m_reindex_non_unique(keyarr)\n\u001b[1;32m-> 6200\u001b[0m \u001b[38;5;28;43mself\u001b[39;49m\u001b[38;5;241;43m.\u001b[39;49m\u001b[43m_raise_if_missing\u001b[49m\u001b[43m(\u001b[49m\u001b[43mkeyarr\u001b[49m\u001b[43m,\u001b[49m\u001b[43m \u001b[49m\u001b[43mindexer\u001b[49m\u001b[43m,\u001b[49m\u001b[43m \u001b[49m\u001b[43maxis_name\u001b[49m\u001b[43m)\u001b[49m\n\u001b[0;32m   6202\u001b[0m keyarr \u001b[38;5;241m=\u001b[39m \u001b[38;5;28mself\u001b[39m\u001b[38;5;241m.\u001b[39mtake(indexer)\n\u001b[0;32m   6203\u001b[0m \u001b[38;5;28;01mif\u001b[39;00m \u001b[38;5;28misinstance\u001b[39m(key, Index):\n\u001b[0;32m   6204\u001b[0m     \u001b[38;5;66;03m# GH 42790 - Preserve name from an Index\u001b[39;00m\n",
      "File \u001b[1;32mc:\\Users\\Carlos\\anaconda3\\envs\\ml-dp\\lib\\site-packages\\pandas\\core\\indexes\\base.py:6252\u001b[0m, in \u001b[0;36mIndex._raise_if_missing\u001b[1;34m(self, key, indexer, axis_name)\u001b[0m\n\u001b[0;32m   6249\u001b[0m     \u001b[38;5;28;01mraise\u001b[39;00m \u001b[38;5;167;01mKeyError\u001b[39;00m(\u001b[38;5;124mf\u001b[39m\u001b[38;5;124m\"\u001b[39m\u001b[38;5;124mNone of [\u001b[39m\u001b[38;5;132;01m{\u001b[39;00mkey\u001b[38;5;132;01m}\u001b[39;00m\u001b[38;5;124m] are in the [\u001b[39m\u001b[38;5;132;01m{\u001b[39;00maxis_name\u001b[38;5;132;01m}\u001b[39;00m\u001b[38;5;124m]\u001b[39m\u001b[38;5;124m\"\u001b[39m)\n\u001b[0;32m   6251\u001b[0m not_found \u001b[38;5;241m=\u001b[39m \u001b[38;5;28mlist\u001b[39m(ensure_index(key)[missing_mask\u001b[38;5;241m.\u001b[39mnonzero()[\u001b[38;5;241m0\u001b[39m]]\u001b[38;5;241m.\u001b[39munique())\n\u001b[1;32m-> 6252\u001b[0m \u001b[38;5;28;01mraise\u001b[39;00m \u001b[38;5;167;01mKeyError\u001b[39;00m(\u001b[38;5;124mf\u001b[39m\u001b[38;5;124m\"\u001b[39m\u001b[38;5;132;01m{\u001b[39;00mnot_found\u001b[38;5;132;01m}\u001b[39;00m\u001b[38;5;124m not in index\u001b[39m\u001b[38;5;124m\"\u001b[39m)\n",
      "\u001b[1;31mKeyError\u001b[0m: \"['hydro_consumption'] not in index\""
     ]
    }
   ],
   "source": [
    "# Import necessary libraries and functions\n",
    "import warnings\n",
    "warnings.filterwarnings(\"ignore\")\n",
    "import pandas as pd\n",
    "from functions import (\n",
    "    load_and_clean_data, filter_and_label_encode, plot_correlation_matrix, \n",
    "    plot_energy_consumption_by_region, plot_electricity_evolution, \n",
    "    create_world_energy_map, plot_energy_trends\n",
    ")\n",
    "\n",
    "# File paths\n",
    "raw_data_path = 'data/raw/owid-energy-data.csv'\n",
    "cleaned_data_path = 'data/clean/cleaned_data_final.csv'\n",
    "shapefile_path = 'shapefiles/ne_110m_admin_0_countries.shp'\n",
    "\n",
    "# Step 1: Load and clean data\n",
    "df_cleaned = load_and_clean_data(raw_data_path, cleaned_data_path)\n",
    "\n",
    "# Step 2: Filter and label encode the data\n",
    "columns_to_keep = [\n",
    "    'solar_electricity', 'wind_electricity', 'biofuel_electricity', 'hydro_electricity',\n",
    "    'population', 'gdp', 'electricity_demand', 'energy_per_capita', 'energy_per_gdp',\n",
    "    'solar_consumption', 'wind_consumption', 'biofuel_consumption', 'hydro_consumption',\n",
    "    'country', 'iso_code', 'year'\n",
    "]\n",
    "\n",
    "df_cleaned = pd.read_csv('data/clean/cleaned_data.csv')\n",
    "\n",
    "# Continuar con las transformaciones y filtrado\n",
    "df_filtered = filter_and_label_encode(df_cleaned, columns_to_keep)\n",
    "\n",
    "# Step 3: Plot the correlation matrix\n",
    "plot_correlation_matrix(df_filtered)\n",
    "\n",
    "# Step 4: Plot renewable energy consumption by region\n",
    "consumo_columns = ['solar_consumption', 'wind_consumption', 'biofuel_consumption', 'hydro_consumption']\n",
    "plot_energy_consumption_by_region(df_filtered, consumo_columns)\n",
    "\n",
    "# Step 5: Plot electricity evolution over time\n",
    "columns_to_plot = ['solar_electricity', 'wind_electricity', 'biofuel_electricity', 'hydro_electricity', 'electricity_demand']\n",
    "plot_electricity_evolution(df_cleaned, columns_to_plot)\n",
    "\n",
    "# Step 6: Create and display world energy map\n",
    "m = create_world_energy_map(df_filtered, columns_to_plot, shapefile_path)\n",
    "\n",
    "# Step 7: Plot energy trends over time\n",
    "plot_energy_trends(df_cleaned)\n"
   ]
  }
 ],
 "metadata": {
  "kernelspec": {
   "display_name": "ml-dp",
   "language": "python",
   "name": "python3"
  },
  "language_info": {
   "codemirror_mode": {
    "name": "ipython",
    "version": 3
   },
   "file_extension": ".py",
   "mimetype": "text/x-python",
   "name": "python",
   "nbconvert_exporter": "python",
   "pygments_lexer": "ipython3",
   "version": "3.9.20"
  }
 },
 "nbformat": 4,
 "nbformat_minor": 2
}
