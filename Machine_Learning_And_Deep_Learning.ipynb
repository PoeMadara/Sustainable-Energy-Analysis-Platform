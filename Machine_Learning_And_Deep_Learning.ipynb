{
 "cells": [
  {
   "cell_type": "markdown",
   "metadata": {},
   "source": [
    "# Final Project: Energy Efficiency and Demand in Clean Energy Transitions (Part 2)\n",
    "\n",
    "This notebook contains the final implementation of my data analysis project. I have built predictive models using both Machine Learning and Deep Learning approaches to forecast energy generation from renewable sources such as solar, wind, hydroelectric, and biofuel."
   ]
  },
  {
   "cell_type": "markdown",
   "metadata": {},
   "source": [
    "## Author\n",
    "\n",
    "### *Carlos Vergara Gámez*\n",
    "Github: https://github.com/PoeMadara\n",
    "\n",
    "Linkedin: https://www.linkedin.com/in/carlosvergaragamez/\n",
    "\n",
    "E-mail: carlos.poemadara@gmail.com"
   ]
  },
  {
   "cell_type": "markdown",
   "metadata": {},
   "source": [
    "## Source\n",
    "\n",
    "*The dataset utilized for this research was sourced from the following reference:*\n",
    "\n",
    "> Ritchie, H., Rosado, P., & Roser, M. (2023). *Energy*. Published online at **OurWorldinData.org**. Retrieved from: [https://ourworldindata.org/energy](https://ourworldindata.org/energy) [Online Resource]\n",
    "\n",
    "*This resource has been invaluable in providing comprehensive data for analyzing energy trends and facilitating informed insights in my research.*\n"
   ]
  },
  {
   "cell_type": "markdown",
   "metadata": {},
   "source": [
    "## 1. Importing Libraries\n",
    "I start by importing all the necessary libraries for data manipulation, visualization, and modeling."
   ]
  },
  {
   "cell_type": "code",
   "execution_count": 1,
   "metadata": {},
   "outputs": [],
   "source": [
    "# Importing necessary libraries\n",
    "import warnings\n",
    "warnings.filterwarnings(\"ignore\")\n",
    "import pandas as pd\n",
    "import numpy as np\n",
    "import matplotlib.pyplot as plt\n",
    "import seaborn as sns\n",
    "import os"
   ]
  },
  {
   "cell_type": "code",
   "execution_count": 2,
   "metadata": {},
   "outputs": [],
   "source": [
    "from joblib import dump, load"
   ]
  },
  {
   "cell_type": "code",
   "execution_count": 3,
   "metadata": {},
   "outputs": [],
   "source": [
    "from sklearn.ensemble import RandomForestRegressor\n",
    "from sklearn.multioutput import MultiOutputRegressor\n",
    "from sklearn.model_selection import train_test_split, cross_val_score, GridSearchCV, KFold, learning_curve\n",
    "from sklearn.metrics import mean_absolute_error, mean_squared_error, r2_score\n",
    "from sklearn.preprocessing import StandardScaler"
   ]
  },
  {
   "cell_type": "code",
   "execution_count": 4,
   "metadata": {},
   "outputs": [],
   "source": [
    "import tensorflow as tf\n",
    "from tensorflow.keras.models import Sequential\n",
    "from tensorflow.keras.layers import Dense, Input, Dropout, SimpleRNN, Dense\n",
    "from tensorflow.keras.regularizers import l2\n",
    "from tensorflow.keras.optimizers import Adam\n",
    "from tensorflow.keras.callbacks import EarlyStopping, ModelCheckpoint"
   ]
  },
  {
   "cell_type": "code",
   "execution_count": 5,
   "metadata": {},
   "outputs": [],
   "source": [
    "# Create a folder called \"final_models\" if it doesn't exist\n",
    "os.makedirs('final_models', exist_ok=True)"
   ]
  },
  {
   "cell_type": "markdown",
   "metadata": {},
   "source": [
    "## 2. Loading the Cleaned Data\n",
    "I previously cleaned the raw dataset and saved it as `cleaned_data_final.csv`. Here, I load that dataset and display the first few rows to confirm it's ready for analysis."
   ]
  },
  {
   "cell_type": "code",
   "execution_count": 6,
   "metadata": {},
   "outputs": [
    {
     "data": {
      "text/html": [
       "<div>\n",
       "<style scoped>\n",
       "    .dataframe tbody tr th:only-of-type {\n",
       "        vertical-align: middle;\n",
       "    }\n",
       "\n",
       "    .dataframe tbody tr th {\n",
       "        vertical-align: top;\n",
       "    }\n",
       "\n",
       "    .dataframe thead th {\n",
       "        text-align: right;\n",
       "    }\n",
       "</style>\n",
       "<table border=\"1\" class=\"dataframe\">\n",
       "  <thead>\n",
       "    <tr style=\"text-align: right;\">\n",
       "      <th></th>\n",
       "      <th>country</th>\n",
       "      <th>year</th>\n",
       "      <th>iso_code</th>\n",
       "      <th>population</th>\n",
       "      <th>gdp</th>\n",
       "      <th>biofuel_cons_change_pct</th>\n",
       "      <th>biofuel_cons_change_twh</th>\n",
       "      <th>biofuel_cons_per_capita</th>\n",
       "      <th>biofuel_consumption</th>\n",
       "      <th>biofuel_elec_per_capita</th>\n",
       "      <th>...</th>\n",
       "      <th>solar_share_elec</th>\n",
       "      <th>solar_share_energy</th>\n",
       "      <th>wind_cons_change_pct</th>\n",
       "      <th>wind_cons_change_twh</th>\n",
       "      <th>wind_consumption</th>\n",
       "      <th>wind_elec_per_capita</th>\n",
       "      <th>wind_electricity</th>\n",
       "      <th>wind_energy_per_capita</th>\n",
       "      <th>wind_share_elec</th>\n",
       "      <th>wind_share_energy</th>\n",
       "    </tr>\n",
       "  </thead>\n",
       "  <tbody>\n",
       "    <tr>\n",
       "      <th>15569</th>\n",
       "      <td>Panama</td>\n",
       "      <td>1990</td>\n",
       "      <td>PAN</td>\n",
       "      <td>2449966.0</td>\n",
       "      <td>1.703577e+10</td>\n",
       "      <td>0.000</td>\n",
       "      <td>0.00</td>\n",
       "      <td>0.000</td>\n",
       "      <td>0.000</td>\n",
       "      <td>0.000</td>\n",
       "      <td>...</td>\n",
       "      <td>0.000</td>\n",
       "      <td>0.0</td>\n",
       "      <td>0.000</td>\n",
       "      <td>0.000</td>\n",
       "      <td>0.000</td>\n",
       "      <td>0.000</td>\n",
       "      <td>0.00</td>\n",
       "      <td>0.000</td>\n",
       "      <td>0.000</td>\n",
       "      <td>0.0</td>\n",
       "    </tr>\n",
       "    <tr>\n",
       "      <th>5233</th>\n",
       "      <td>Cyprus</td>\n",
       "      <td>2021</td>\n",
       "      <td>CYP</td>\n",
       "      <td>1244193.0</td>\n",
       "      <td>3.242868e+10</td>\n",
       "      <td>-13.804</td>\n",
       "      <td>-0.04</td>\n",
       "      <td>199.518</td>\n",
       "      <td>0.248</td>\n",
       "      <td>48.224</td>\n",
       "      <td>...</td>\n",
       "      <td>9.180</td>\n",
       "      <td>0.0</td>\n",
       "      <td>2.525</td>\n",
       "      <td>0.014</td>\n",
       "      <td>0.645</td>\n",
       "      <td>200.933</td>\n",
       "      <td>0.25</td>\n",
       "      <td>518.371</td>\n",
       "      <td>4.883</td>\n",
       "      <td>0.0</td>\n",
       "    </tr>\n",
       "    <tr>\n",
       "      <th>12057</th>\n",
       "      <td>Middle Africa (EI)</td>\n",
       "      <td>1971</td>\n",
       "      <td>0</td>\n",
       "      <td>0.0</td>\n",
       "      <td>0.000000e+00</td>\n",
       "      <td>0.000</td>\n",
       "      <td>0.00</td>\n",
       "      <td>0.000</td>\n",
       "      <td>0.000</td>\n",
       "      <td>0.000</td>\n",
       "      <td>...</td>\n",
       "      <td>0.000</td>\n",
       "      <td>0.0</td>\n",
       "      <td>0.000</td>\n",
       "      <td>0.000</td>\n",
       "      <td>0.000</td>\n",
       "      <td>0.000</td>\n",
       "      <td>0.00</td>\n",
       "      <td>0.000</td>\n",
       "      <td>0.000</td>\n",
       "      <td>0.0</td>\n",
       "    </tr>\n",
       "    <tr>\n",
       "      <th>5565</th>\n",
       "      <td>Denmark</td>\n",
       "      <td>1953</td>\n",
       "      <td>DNK</td>\n",
       "      <td>4362493.0</td>\n",
       "      <td>5.078414e+10</td>\n",
       "      <td>0.000</td>\n",
       "      <td>0.00</td>\n",
       "      <td>0.000</td>\n",
       "      <td>0.000</td>\n",
       "      <td>0.000</td>\n",
       "      <td>...</td>\n",
       "      <td>0.000</td>\n",
       "      <td>0.0</td>\n",
       "      <td>0.000</td>\n",
       "      <td>0.000</td>\n",
       "      <td>0.000</td>\n",
       "      <td>0.000</td>\n",
       "      <td>0.00</td>\n",
       "      <td>0.000</td>\n",
       "      <td>0.000</td>\n",
       "      <td>0.0</td>\n",
       "    </tr>\n",
       "    <tr>\n",
       "      <th>17417</th>\n",
       "      <td>Singapore</td>\n",
       "      <td>2021</td>\n",
       "      <td>SGP</td>\n",
       "      <td>5941063.0</td>\n",
       "      <td>4.455520e+11</td>\n",
       "      <td>0.000</td>\n",
       "      <td>0.00</td>\n",
       "      <td>0.000</td>\n",
       "      <td>0.000</td>\n",
       "      <td>205.350</td>\n",
       "      <td>...</td>\n",
       "      <td>0.717</td>\n",
       "      <td>0.0</td>\n",
       "      <td>0.000</td>\n",
       "      <td>0.000</td>\n",
       "      <td>0.000</td>\n",
       "      <td>0.000</td>\n",
       "      <td>0.00</td>\n",
       "      <td>0.000</td>\n",
       "      <td>0.000</td>\n",
       "      <td>0.0</td>\n",
       "    </tr>\n",
       "  </tbody>\n",
       "</table>\n",
       "<p>5 rows × 129 columns</p>\n",
       "</div>"
      ],
      "text/plain": [
       "                  country  year iso_code  population           gdp  \\\n",
       "15569              Panama  1990      PAN   2449966.0  1.703577e+10   \n",
       "5233               Cyprus  2021      CYP   1244193.0  3.242868e+10   \n",
       "12057  Middle Africa (EI)  1971        0         0.0  0.000000e+00   \n",
       "5565              Denmark  1953      DNK   4362493.0  5.078414e+10   \n",
       "17417           Singapore  2021      SGP   5941063.0  4.455520e+11   \n",
       "\n",
       "       biofuel_cons_change_pct  biofuel_cons_change_twh  \\\n",
       "15569                    0.000                     0.00   \n",
       "5233                   -13.804                    -0.04   \n",
       "12057                    0.000                     0.00   \n",
       "5565                     0.000                     0.00   \n",
       "17417                    0.000                     0.00   \n",
       "\n",
       "       biofuel_cons_per_capita  biofuel_consumption  biofuel_elec_per_capita  \\\n",
       "15569                    0.000                0.000                    0.000   \n",
       "5233                   199.518                0.248                   48.224   \n",
       "12057                    0.000                0.000                    0.000   \n",
       "5565                     0.000                0.000                    0.000   \n",
       "17417                    0.000                0.000                  205.350   \n",
       "\n",
       "       ...  solar_share_elec  solar_share_energy  wind_cons_change_pct  \\\n",
       "15569  ...             0.000                 0.0                 0.000   \n",
       "5233   ...             9.180                 0.0                 2.525   \n",
       "12057  ...             0.000                 0.0                 0.000   \n",
       "5565   ...             0.000                 0.0                 0.000   \n",
       "17417  ...             0.717                 0.0                 0.000   \n",
       "\n",
       "       wind_cons_change_twh  wind_consumption  wind_elec_per_capita  \\\n",
       "15569                 0.000             0.000                 0.000   \n",
       "5233                  0.014             0.645               200.933   \n",
       "12057                 0.000             0.000                 0.000   \n",
       "5565                  0.000             0.000                 0.000   \n",
       "17417                 0.000             0.000                 0.000   \n",
       "\n",
       "       wind_electricity  wind_energy_per_capita  wind_share_elec  \\\n",
       "15569              0.00                   0.000            0.000   \n",
       "5233               0.25                 518.371            4.883   \n",
       "12057              0.00                   0.000            0.000   \n",
       "5565               0.00                   0.000            0.000   \n",
       "17417              0.00                   0.000            0.000   \n",
       "\n",
       "       wind_share_energy  \n",
       "15569                0.0  \n",
       "5233                 0.0  \n",
       "12057                0.0  \n",
       "5565                 0.0  \n",
       "17417                0.0  \n",
       "\n",
       "[5 rows x 129 columns]"
      ]
     },
     "execution_count": 6,
     "metadata": {},
     "output_type": "execute_result"
    }
   ],
   "source": [
    "# Loading the cleaned data\n",
    "df = pd.read_csv('data/clean/cleaned_data_final.csv')\n",
    "\n",
    "# Displaying a random sample of 5 rows from the dataset\n",
    "df.sample(5)"
   ]
  },
  {
   "cell_type": "markdown",
   "metadata": {},
   "source": [
    "## 3. Defining the Features and Target Variables\n",
    "In this section, I define the features (independent variables) and the target variables (dependent variables). I will use these to train my machine learning models."
   ]
  },
  {
   "cell_type": "code",
   "execution_count": 7,
   "metadata": {},
   "outputs": [],
   "source": [
    "X = df[[\n",
    "    'year', 'population', 'gdp', 'electricity_demand', 'electricity_generation',\n",
    "    'energy_cons_change_twh', 'energy_per_capita', 'energy_per_gdp',\n",
    "    'solar_consumption', 'wind_consumption', 'biofuel_consumption'\n",
    "]]\n",
    "\n",
    "y = df[['solar_electricity', 'wind_electricity', 'hydro_electricity', 'biofuel_electricity']]"
   ]
  },
  {
   "cell_type": "markdown",
   "metadata": {},
   "source": [
    "## 4. Splitting the Data into Training and Testing Sets\n",
    "I split the dataset into training (80%) and testing (20%) sets to evaluate model performance on unseen data."
   ]
  },
  {
   "cell_type": "code",
   "execution_count": 8,
   "metadata": {},
   "outputs": [],
   "source": [
    "# Splitting the dataset into training and testing sets\n",
    "X_train, X_test, y_train, y_test = train_test_split(X, y, test_size=0.2, random_state=42)"
   ]
  },
  {
   "cell_type": "markdown",
   "metadata": {},
   "source": [
    "## 5. Training the Machine Learning Model: Random Forest and GridSearchCV\n",
    "I will now train a Random Forest model using `MultiOutputRegressor` to predict multiple target variables. I also perform a grid search to find the best hyperparameters for the model."
   ]
  },
  {
   "cell_type": "code",
   "execution_count": 9,
   "metadata": {},
   "outputs": [
    {
     "name": "stdout",
     "output_type": "stream",
     "text": [
      "Best Parameters: {'estimator__max_depth': None, 'estimator__min_samples_split': 2, 'estimator__n_estimators': 200}\n"
     ]
    }
   ],
   "source": [
    "# Initializing the RandomForestRegressor\n",
    "rf = RandomForestRegressor(random_state=42)  # Creates an instance with a fixed seed for reproducibility\n",
    "\n",
    "# Wrapping it in a MultiOutputRegressor to handle multiple target variables\n",
    "multi_rf = MultiOutputRegressor(rf)  # Allows predicting multiple targets simultaneously\n",
    "\n",
    "# Defining the hyperparameters for grid search\n",
    "param_grid = {\n",
    "    'estimator__n_estimators': [50, 100, 200],  # Number of trees in the forest\n",
    "    'estimator__max_depth': [None, 10, 20],  # Maximum depth of each tree\n",
    "    'estimator__min_samples_split': [2, 5, 10]  # Minimum samples required to split an internal node\n",
    "}\n",
    "\n",
    "# Performing grid search\n",
    "grid_search = GridSearchCV(multi_rf, param_grid, cv=5, scoring='neg_mean_absolute_error')  # Executes grid search with 5-fold cross-validation\n",
    "grid_search.fit(X_train, y_train)  # Fits the model to the training data\n",
    "\n",
    "# Getting the best model from grid search\n",
    "best_rf_model = grid_search.best_estimator_  # Retrieves the best-performing model\n",
    "\n",
    "# Printing the best parameters\n",
    "print(\"Best Parameters:\", grid_search.best_params_)  # Displays optimal hyperparameters for the best model\n"
   ]
  },
  {
   "cell_type": "code",
   "execution_count": 10,
   "metadata": {},
   "outputs": [
    {
     "data": {
      "text/plain": [
       "['final_models/seap_ml_model.joblib']"
      ]
     },
     "execution_count": 10,
     "metadata": {},
     "output_type": "execute_result"
    }
   ],
   "source": [
    "# Saving the trained machine learning model\n",
    "dump(best_rf_model, 'final_models/seap_ml_model.joblib')"
   ]
  },
  {
   "cell_type": "markdown",
   "metadata": {},
   "source": [
    "## 6. Evaluating the Random Forest Model\n",
    "Here, I evaluate the Random Forest model on the test set using Mean Absolute Error (MAE), Root Mean Squared Error (RMSE), and R-Squared (R²) metrics."
   ]
  },
  {
   "cell_type": "code",
   "execution_count": 11,
   "metadata": {},
   "outputs": [
    {
     "name": "stdout",
     "output_type": "stream",
     "text": [
      "MAE: 1.7715\n",
      "RMSE: 17.2922\n",
      "R²: 0.9828\n"
     ]
    }
   ],
   "source": [
    "# Making predictions on the test set\n",
    "y_pred_rf = best_rf_model.predict(X_test)  # Uses the best model to predict the target variable for the test dataset\n",
    "\n",
    "# Calculating evaluation metrics\n",
    "mae_rf = mean_absolute_error(y_test, y_pred_rf)  # Calculates Mean Absolute Error\n",
    "rmse_rf = np.sqrt(mean_squared_error(y_test, y_pred_rf))  # Calculates Root Mean Squared Error\n",
    "r2_rf = r2_score(y_test, y_pred_rf)  # Calculates R² score, indicating the proportion of variance explained by the model\n",
    "\n",
    "# Printing evaluation metrics\n",
    "print(f\"MAE: {mae_rf:.4f}\")  # Displays the MAE rounded to 4 decimal places\n",
    "print(f\"RMSE: {rmse_rf:.4f}\")  # Displays the RMSE rounded to 4 decimal places\n",
    "print(f\"R²: {r2_rf:.4f}\")  # Displays the R² score rounded to 4 decimal places\n"
   ]
  },
  {
   "cell_type": "markdown",
   "metadata": {},
   "source": [
    "> The Random Forest model demonstrates strong performance:\n",
    "\n",
    "- **MAE**: 1.7715 - Indicates a small average prediction error.\n",
    "- **RMSE**: 17.2922 - Shows effective variability capture without significant outlier influence.\n",
    "- **R²**: 0.9828 - Explains nearly 98.3% of the variance in the target variable.\n",
    "\n",
    "Overall, these metrics highlight the model's robustness and reliability in predicting renewable energy generation.\n"
   ]
  },
  {
   "cell_type": "markdown",
   "metadata": {},
   "source": [
    "### Cross-validation:\n",
    "\n",
    "\n",
    "Cross-validation is used to assess the model's performance and ensure its generalizability by evaluating it on different subsets of the data."
   ]
  },
  {
   "cell_type": "code",
   "execution_count": 12,
   "metadata": {},
   "outputs": [
    {
     "name": "stdout",
     "output_type": "stream",
     "text": [
      "Cross-validated scores: [0.8576651  0.82242854 0.91046173 0.86831421 0.94703239]\n",
      "Mean score: 0.8811803931997633\n"
     ]
    }
   ],
   "source": [
    "# Perform cross-validation on the specified model using the provided data\n",
    "scores = cross_val_score(best_rf_model, X, y, cv=5)  # X and y are your independent and dependent variables\n",
    "\n",
    "# Output the individual cross-validated scores\n",
    "print(\"Cross-validated scores:\", scores)\n",
    "\n",
    "# Calculate and print the mean score of the cross-validation scores to assess the model's overall performance\n",
    "print(\"Mean score:\", scores.mean())"
   ]
  },
  {
   "cell_type": "markdown",
   "metadata": {},
   "source": [
    "The average cross-validated score of 0.8812 indicates strong model performance, suggesting it effectively generalizes to unseen data. The scores range from 0.8224 to 0.9470, showing some variability, which warrants further investigation to ensure consistency. Overall, **this is a solid result for predictive accuracy.**"
   ]
  },
  {
   "cell_type": "markdown",
   "metadata": {},
   "source": [
    "## 7. Deep Learning Model Implementation\n",
    "*In addition to Random Forest, I developed a deep learning model using Keras for multivariable energy generation prediction. Below is the implementation of the neural network.*"
   ]
  },
  {
   "cell_type": "markdown",
   "metadata": {},
   "source": [
    "### Data Splitting\n",
    "\n",
    "To begin from scratch with the deep learning model, I will use the same dataset that I previously utilized for the machine learning model. The data will be split into training and testing sets as follows:\n",
    "\n"
   ]
  },
  {
   "cell_type": "code",
   "execution_count": 13,
   "metadata": {},
   "outputs": [],
   "source": [
    "X_train, X_test, y_train, y_test = train_test_split(X, y, test_size=0.2, random_state=42)"
   ]
  },
  {
   "cell_type": "markdown",
   "metadata": {},
   "source": [
    "### Data Normalization\n",
    "\n",
    "Before training the deep learning model, it is essential to normalize the data to improve convergence and performance. Normalization helps to scale the features to a similar range, which can enhance the model's ability to learn effectively. The normalization process is carried out as follows:\n"
   ]
  },
  {
   "cell_type": "code",
   "execution_count": 14,
   "metadata": {},
   "outputs": [],
   "source": [
    "# Normalize the data\n",
    "scaler = StandardScaler()\n",
    "X_train_scaled = scaler.fit_transform(X_train)  # Fit and transform the training data\n",
    "X_test_scaled = scaler.transform(X_test)  # Transform the test data without fitting\n"
   ]
  },
  {
   "cell_type": "markdown",
   "metadata": {},
   "source": [
    "### Deep Learning Model Definition: Time Series Model for Multi-Variable Energy Generation Prediction\n",
    "\n",
    "In this section, we define a deep learning model using Keras, which is structured as follows:"
   ]
  },
  {
   "cell_type": "code",
   "execution_count": 15,
   "metadata": {},
   "outputs": [],
   "source": [
    "# Define the model\n",
    "dl_model = Sequential()\n",
    "\n",
    "# Input layer\n",
    "dl_model.add(Input(shape=(X.shape[1],)))  # Ensure the shape matches the input features\n",
    "\n",
    "# Adding hidden layers\n",
    "dl_model.add(Dense(128, activation='relu', input_shape=(16,), kernel_regularizer=l2(0.01)))  # First hidden layer with L2 regularization\n",
    "dl_model.add(Dense(64, activation='relu'))   # Second hidden layer\n",
    "dl_model.add(Dense(32, activation='relu'))    # Third hidden layer\n",
    "dl_model.add(Dense(16, activation='relu'))    # Fourth hidden layer\n",
    "\n",
    "# Output layer for the 4 consumption variables\n",
    "dl_model.add(Dense(4, activation='linear'))  # 4 neurons for multi-output regression\n",
    "\n",
    "# Compile the model\n",
    "dl_model.compile(optimizer=Adam(learning_rate=0.001), loss='mean_squared_error')"
   ]
  },
  {
   "cell_type": "markdown",
   "metadata": {},
   "source": [
    "### Model Checkpoint Callback\n",
    "\n",
    "To ensure that we save the best performing model during training, we utilize a callback mechanism provided by Keras. Below is the implementation of the checkpointing functionality:"
   ]
  },
  {
   "cell_type": "code",
   "execution_count": 16,
   "metadata": {},
   "outputs": [],
   "source": [
    "# Callback to save the best model\n",
    "checkpoint_path = 'final_models/seap_dp_times_series_model.keras'  # Path where the model will be saved\n",
    "model_checkpoint = ModelCheckpoint(\n",
    "    filepath=checkpoint_path,\n",
    "    save_best_only=True,\n",
    "    monitor='val_loss',  # Monitors the validation loss\n",
    "    mode='min',          # Saves the model if the validation loss decreases\n",
    "    verbose=1\n",
    ")\n"
   ]
  },
  {
   "cell_type": "markdown",
   "metadata": {},
   "source": [
    "### Early Stopping and Model Training\n",
    "\n",
    "To prevent overfitting during the training of our deep learning model, we implement an Early Stopping mechanism. Below is the code for the Early Stopping callback and the model training process:"
   ]
  },
  {
   "cell_type": "code",
   "execution_count": 17,
   "metadata": {},
   "outputs": [
    {
     "name": "stdout",
     "output_type": "stream",
     "text": [
      "Epoch 1/100\n",
      "\u001b[1m531/546\u001b[0m \u001b[32m━━━━━━━━━━━━━━━━━━━\u001b[0m\u001b[37m━\u001b[0m \u001b[1m0s\u001b[0m 1ms/step - loss: 12137.8447\n",
      "Epoch 1: val_loss improved from inf to 2519.09253, saving model to final_models/seap_deep_learning_model.keras\n",
      "\u001b[1m546/546\u001b[0m \u001b[32m━━━━━━━━━━━━━━━━━━━━\u001b[0m\u001b[37m\u001b[0m \u001b[1m3s\u001b[0m 2ms/step - loss: 11981.3281 - val_loss: 2519.0925\n",
      "Epoch 2/100\n",
      "\u001b[1m508/546\u001b[0m \u001b[32m━━━━━━━━━━━━━━━━━━\u001b[0m\u001b[37m━━\u001b[0m \u001b[1m0s\u001b[0m 1ms/step - loss: 2595.0190\n",
      "Epoch 2: val_loss improved from 2519.09253 to 2058.35669, saving model to final_models/seap_deep_learning_model.keras\n",
      "\u001b[1m546/546\u001b[0m \u001b[32m━━━━━━━━━━━━━━━━━━━━\u001b[0m\u001b[37m\u001b[0m \u001b[1m1s\u001b[0m 2ms/step - loss: 2595.9685 - val_loss: 2058.3567\n",
      "Epoch 3/100\n",
      "\u001b[1m514/546\u001b[0m \u001b[32m━━━━━━━━━━━━━━━━━━\u001b[0m\u001b[37m━━\u001b[0m \u001b[1m0s\u001b[0m 986us/step - loss: 2185.2051\n",
      "Epoch 3: val_loss improved from 2058.35669 to 1934.64795, saving model to final_models/seap_deep_learning_model.keras\n",
      "\u001b[1m546/546\u001b[0m \u001b[32m━━━━━━━━━━━━━━━━━━━━\u001b[0m\u001b[37m\u001b[0m \u001b[1m1s\u001b[0m 1ms/step - loss: 2194.5293 - val_loss: 1934.6479\n",
      "Epoch 4/100\n",
      "\u001b[1m542/546\u001b[0m \u001b[32m━━━━━━━━━━━━━━━━━━━\u001b[0m\u001b[37m━\u001b[0m \u001b[1m0s\u001b[0m 1ms/step - loss: 1997.9791\n",
      "Epoch 4: val_loss improved from 1934.64795 to 1813.01392, saving model to final_models/seap_deep_learning_model.keras\n",
      "\u001b[1m546/546\u001b[0m \u001b[32m━━━━━━━━━━━━━━━━━━━━\u001b[0m\u001b[37m\u001b[0m \u001b[1m1s\u001b[0m 2ms/step - loss: 1999.5624 - val_loss: 1813.0139\n",
      "Epoch 5/100\n",
      "\u001b[1m496/546\u001b[0m \u001b[32m━━━━━━━━━━━━━━━━━━\u001b[0m\u001b[37m━━\u001b[0m \u001b[1m0s\u001b[0m 1ms/step - loss: 2058.7117\n",
      "Epoch 5: val_loss improved from 1813.01392 to 1521.69189, saving model to final_models/seap_deep_learning_model.keras\n",
      "\u001b[1m546/546\u001b[0m \u001b[32m━━━━━━━━━━━━━━━━━━━━\u001b[0m\u001b[37m\u001b[0m \u001b[1m1s\u001b[0m 1ms/step - loss: 2047.4729 - val_loss: 1521.6919\n",
      "Epoch 6/100\n",
      "\u001b[1m515/546\u001b[0m \u001b[32m━━━━━━━━━━━━━━━━━━\u001b[0m\u001b[37m━━\u001b[0m \u001b[1m0s\u001b[0m 1ms/step - loss: 1505.8943\n",
      "Epoch 6: val_loss improved from 1521.69189 to 1391.21582, saving model to final_models/seap_deep_learning_model.keras\n",
      "\u001b[1m546/546\u001b[0m \u001b[32m━━━━━━━━━━━━━━━━━━━━\u001b[0m\u001b[37m\u001b[0m \u001b[1m1s\u001b[0m 1ms/step - loss: 1512.5186 - val_loss: 1391.2158\n",
      "Epoch 7/100\n",
      "\u001b[1m528/546\u001b[0m \u001b[32m━━━━━━━━━━━━━━━━━━━\u001b[0m\u001b[37m━\u001b[0m \u001b[1m0s\u001b[0m 1ms/step - loss: 1306.7734\n",
      "Epoch 7: val_loss improved from 1391.21582 to 1247.39172, saving model to final_models/seap_deep_learning_model.keras\n",
      "\u001b[1m546/546\u001b[0m \u001b[32m━━━━━━━━━━━━━━━━━━━━\u001b[0m\u001b[37m\u001b[0m \u001b[1m1s\u001b[0m 2ms/step - loss: 1311.7888 - val_loss: 1247.3917\n",
      "Epoch 8/100\n",
      "\u001b[1m544/546\u001b[0m \u001b[32m━━━━━━━━━━━━━━━━━━━\u001b[0m\u001b[37m━\u001b[0m \u001b[1m0s\u001b[0m 1ms/step - loss: 1422.1700\n",
      "Epoch 8: val_loss improved from 1247.39172 to 1094.54517, saving model to final_models/seap_deep_learning_model.keras\n",
      "\u001b[1m546/546\u001b[0m \u001b[32m━━━━━━━━━━━━━━━━━━━━\u001b[0m\u001b[37m\u001b[0m \u001b[1m1s\u001b[0m 1ms/step - loss: 1422.0331 - val_loss: 1094.5452\n",
      "Epoch 9/100\n",
      "\u001b[1m527/546\u001b[0m \u001b[32m━━━━━━━━━━━━━━━━━━━\u001b[0m\u001b[37m━\u001b[0m \u001b[1m0s\u001b[0m 1ms/step - loss: 1337.9010\n",
      "Epoch 9: val_loss improved from 1094.54517 to 1007.45624, saving model to final_models/seap_deep_learning_model.keras\n",
      "\u001b[1m546/546\u001b[0m \u001b[32m━━━━━━━━━━━━━━━━━━━━\u001b[0m\u001b[37m\u001b[0m \u001b[1m1s\u001b[0m 1ms/step - loss: 1336.5863 - val_loss: 1007.4562\n",
      "Epoch 10/100\n",
      "\u001b[1m538/546\u001b[0m \u001b[32m━━━━━━━━━━━━━━━━━━━\u001b[0m\u001b[37m━\u001b[0m \u001b[1m0s\u001b[0m 1ms/step - loss: 1248.1134\n",
      "Epoch 10: val_loss improved from 1007.45624 to 998.23792, saving model to final_models/seap_deep_learning_model.keras\n",
      "\u001b[1m546/546\u001b[0m \u001b[32m━━━━━━━━━━━━━━━━━━━━\u001b[0m\u001b[37m\u001b[0m \u001b[1m1s\u001b[0m 1ms/step - loss: 1246.6605 - val_loss: 998.2379\n",
      "Epoch 11/100\n",
      "\u001b[1m545/546\u001b[0m \u001b[32m━━━━━━━━━━━━━━━━━━━\u001b[0m\u001b[37m━\u001b[0m \u001b[1m0s\u001b[0m 1ms/step - loss: 1150.3662\n",
      "Epoch 11: val_loss improved from 998.23792 to 993.66425, saving model to final_models/seap_deep_learning_model.keras\n",
      "\u001b[1m546/546\u001b[0m \u001b[32m━━━━━━━━━━━━━━━━━━━━\u001b[0m\u001b[37m\u001b[0m \u001b[1m1s\u001b[0m 2ms/step - loss: 1150.2887 - val_loss: 993.6642\n",
      "Epoch 12/100\n",
      "\u001b[1m544/546\u001b[0m \u001b[32m━━━━━━━━━━━━━━━━━━━\u001b[0m\u001b[37m━\u001b[0m \u001b[1m0s\u001b[0m 1ms/step - loss: 937.3966\n",
      "Epoch 12: val_loss improved from 993.66425 to 879.50580, saving model to final_models/seap_deep_learning_model.keras\n",
      "\u001b[1m546/546\u001b[0m \u001b[32m━━━━━━━━━━━━━━━━━━━━\u001b[0m\u001b[37m\u001b[0m \u001b[1m1s\u001b[0m 2ms/step - loss: 937.9887 - val_loss: 879.5058\n",
      "Epoch 13/100\n",
      "\u001b[1m535/546\u001b[0m \u001b[32m━━━━━━━━━━━━━━━━━━━\u001b[0m\u001b[37m━\u001b[0m \u001b[1m0s\u001b[0m 1ms/step - loss: 996.9697\n",
      "Epoch 13: val_loss did not improve from 879.50580\n",
      "\u001b[1m546/546\u001b[0m \u001b[32m━━━━━━━━━━━━━━━━━━━━\u001b[0m\u001b[37m\u001b[0m \u001b[1m1s\u001b[0m 1ms/step - loss: 997.2191 - val_loss: 917.8264\n",
      "Epoch 14/100\n",
      "\u001b[1m508/546\u001b[0m \u001b[32m━━━━━━━━━━━━━━━━━━\u001b[0m\u001b[37m━━\u001b[0m \u001b[1m0s\u001b[0m 1ms/step - loss: 992.0647\n",
      "Epoch 14: val_loss did not improve from 879.50580\n",
      "\u001b[1m546/546\u001b[0m \u001b[32m━━━━━━━━━━━━━━━━━━━━\u001b[0m\u001b[37m\u001b[0m \u001b[1m1s\u001b[0m 1ms/step - loss: 999.9363 - val_loss: 928.3911\n",
      "Epoch 15/100\n",
      "\u001b[1m525/546\u001b[0m \u001b[32m━━━━━━━━━━━━━━━━━━━\u001b[0m\u001b[37m━\u001b[0m \u001b[1m0s\u001b[0m 1ms/step - loss: 1010.5638\n",
      "Epoch 15: val_loss did not improve from 879.50580\n",
      "\u001b[1m546/546\u001b[0m \u001b[32m━━━━━━━━━━━━━━━━━━━━\u001b[0m\u001b[37m\u001b[0m \u001b[1m1s\u001b[0m 1ms/step - loss: 1008.7430 - val_loss: 1143.8175\n",
      "Epoch 16/100\n",
      "\u001b[1m514/546\u001b[0m \u001b[32m━━━━━━━━━━━━━━━━━━\u001b[0m\u001b[37m━━\u001b[0m \u001b[1m0s\u001b[0m 1ms/step - loss: 912.5581\n",
      "Epoch 16: val_loss improved from 879.50580 to 831.28864, saving model to final_models/seap_deep_learning_model.keras\n",
      "\u001b[1m546/546\u001b[0m \u001b[32m━━━━━━━━━━━━━━━━━━━━\u001b[0m\u001b[37m\u001b[0m \u001b[1m1s\u001b[0m 2ms/step - loss: 914.8840 - val_loss: 831.2886\n",
      "Epoch 17/100\n",
      "\u001b[1m499/546\u001b[0m \u001b[32m━━━━━━━━━━━━━━━━━━\u001b[0m\u001b[37m━━\u001b[0m \u001b[1m0s\u001b[0m 1ms/step - loss: 852.8832\n",
      "Epoch 17: val_loss did not improve from 831.28864\n",
      "\u001b[1m546/546\u001b[0m \u001b[32m━━━━━━━━━━━━━━━━━━━━\u001b[0m\u001b[37m\u001b[0m \u001b[1m1s\u001b[0m 1ms/step - loss: 860.3041 - val_loss: 904.8329\n",
      "Epoch 18/100\n",
      "\u001b[1m524/546\u001b[0m \u001b[32m━━━━━━━━━━━━━━━━━━━\u001b[0m\u001b[37m━\u001b[0m \u001b[1m0s\u001b[0m 1ms/step - loss: 759.0007\n",
      "Epoch 18: val_loss improved from 831.28864 to 804.95386, saving model to final_models/seap_deep_learning_model.keras\n",
      "\u001b[1m546/546\u001b[0m \u001b[32m━━━━━━━━━━━━━━━━━━━━\u001b[0m\u001b[37m\u001b[0m \u001b[1m1s\u001b[0m 1ms/step - loss: 763.8084 - val_loss: 804.9539\n",
      "Epoch 19/100\n",
      "\u001b[1m525/546\u001b[0m \u001b[32m━━━━━━━━━━━━━━━━━━━\u001b[0m\u001b[37m━\u001b[0m \u001b[1m0s\u001b[0m 1ms/step - loss: 709.7096\n",
      "Epoch 19: val_loss improved from 804.95386 to 796.97876, saving model to final_models/seap_deep_learning_model.keras\n",
      "\u001b[1m546/546\u001b[0m \u001b[32m━━━━━━━━━━━━━━━━━━━━\u001b[0m\u001b[37m\u001b[0m \u001b[1m1s\u001b[0m 2ms/step - loss: 716.0448 - val_loss: 796.9788\n",
      "Epoch 20/100\n",
      "\u001b[1m531/546\u001b[0m \u001b[32m━━━━━━━━━━━━━━━━━━━\u001b[0m\u001b[37m━\u001b[0m \u001b[1m0s\u001b[0m 1ms/step - loss: 1016.4855\n",
      "Epoch 20: val_loss did not improve from 796.97876\n",
      "\u001b[1m546/546\u001b[0m \u001b[32m━━━━━━━━━━━━━━━━━━━━\u001b[0m\u001b[37m\u001b[0m \u001b[1m1s\u001b[0m 1ms/step - loss: 1015.5864 - val_loss: 1476.0033\n",
      "Epoch 21/100\n",
      "\u001b[1m505/546\u001b[0m \u001b[32m━━━━━━━━━━━━━━━━━━\u001b[0m\u001b[37m━━\u001b[0m \u001b[1m0s\u001b[0m 1ms/step - loss: 971.7911\n",
      "Epoch 21: val_loss did not improve from 796.97876\n",
      "\u001b[1m546/546\u001b[0m \u001b[32m━━━━━━━━━━━━━━━━━━━━\u001b[0m\u001b[37m\u001b[0m \u001b[1m1s\u001b[0m 1ms/step - loss: 967.6079 - val_loss: 852.9941\n",
      "Epoch 22/100\n",
      "\u001b[1m509/546\u001b[0m \u001b[32m━━━━━━━━━━━━━━━━━━\u001b[0m\u001b[37m━━\u001b[0m \u001b[1m0s\u001b[0m 998us/step - loss: 912.8433\n",
      "Epoch 22: val_loss improved from 796.97876 to 779.78534, saving model to final_models/seap_deep_learning_model.keras\n",
      "\u001b[1m546/546\u001b[0m \u001b[32m━━━━━━━━━━━━━━━━━━━━\u001b[0m\u001b[37m\u001b[0m \u001b[1m1s\u001b[0m 1ms/step - loss: 908.1407 - val_loss: 779.7853\n",
      "Epoch 23/100\n",
      "\u001b[1m509/546\u001b[0m \u001b[32m━━━━━━━━━━━━━━━━━━\u001b[0m\u001b[37m━━\u001b[0m \u001b[1m0s\u001b[0m 1ms/step - loss: 737.1650\n",
      "Epoch 23: val_loss improved from 779.78534 to 736.67377, saving model to final_models/seap_deep_learning_model.keras\n",
      "\u001b[1m546/546\u001b[0m \u001b[32m━━━━━━━━━━━━━━━━━━━━\u001b[0m\u001b[37m\u001b[0m \u001b[1m1s\u001b[0m 1ms/step - loss: 741.7106 - val_loss: 736.6738\n",
      "Epoch 24/100\n",
      "\u001b[1m506/546\u001b[0m \u001b[32m━━━━━━━━━━━━━━━━━━\u001b[0m\u001b[37m━━\u001b[0m \u001b[1m0s\u001b[0m 1ms/step - loss: 831.6839\n",
      "Epoch 24: val_loss improved from 736.67377 to 699.64661, saving model to final_models/seap_deep_learning_model.keras\n",
      "\u001b[1m546/546\u001b[0m \u001b[32m━━━━━━━━━━━━━━━━━━━━\u001b[0m\u001b[37m\u001b[0m \u001b[1m1s\u001b[0m 2ms/step - loss: 832.8396 - val_loss: 699.6466\n",
      "Epoch 25/100\n",
      "\u001b[1m519/546\u001b[0m \u001b[32m━━━━━━━━━━━━━━━━━━━\u001b[0m\u001b[37m━\u001b[0m \u001b[1m0s\u001b[0m 1ms/step - loss: 694.3727\n",
      "Epoch 25: val_loss did not improve from 699.64661\n",
      "\u001b[1m546/546\u001b[0m \u001b[32m━━━━━━━━━━━━━━━━━━━━\u001b[0m\u001b[37m\u001b[0m \u001b[1m1s\u001b[0m 2ms/step - loss: 699.3350 - val_loss: 715.9657\n",
      "Epoch 26/100\n",
      "\u001b[1m519/546\u001b[0m \u001b[32m━━━━━━━━━━━━━━━━━━━\u001b[0m\u001b[37m━\u001b[0m \u001b[1m0s\u001b[0m 978us/step - loss: 777.4337\n",
      "Epoch 26: val_loss improved from 699.64661 to 678.22949, saving model to final_models/seap_deep_learning_model.keras\n",
      "\u001b[1m546/546\u001b[0m \u001b[32m━━━━━━━━━━━━━━━━━━━━\u001b[0m\u001b[37m\u001b[0m \u001b[1m1s\u001b[0m 1ms/step - loss: 777.8034 - val_loss: 678.2295\n",
      "Epoch 27/100\n",
      "\u001b[1m538/546\u001b[0m \u001b[32m━━━━━━━━━━━━━━━━━━━\u001b[0m\u001b[37m━\u001b[0m \u001b[1m0s\u001b[0m 1ms/step - loss: 800.7825\n",
      "Epoch 27: val_loss improved from 678.22949 to 662.49371, saving model to final_models/seap_deep_learning_model.keras\n",
      "\u001b[1m546/546\u001b[0m \u001b[32m━━━━━━━━━━━━━━━━━━━━\u001b[0m\u001b[37m\u001b[0m \u001b[1m1s\u001b[0m 1ms/step - loss: 799.7087 - val_loss: 662.4937\n",
      "Epoch 28/100\n",
      "\u001b[1m511/546\u001b[0m \u001b[32m━━━━━━━━━━━━━━━━━━\u001b[0m\u001b[37m━━\u001b[0m \u001b[1m0s\u001b[0m 1ms/step - loss: 816.9105\n",
      "Epoch 28: val_loss did not improve from 662.49371\n",
      "\u001b[1m546/546\u001b[0m \u001b[32m━━━━━━━━━━━━━━━━━━━━\u001b[0m\u001b[37m\u001b[0m \u001b[1m1s\u001b[0m 1ms/step - loss: 814.2718 - val_loss: 1615.4813\n",
      "Epoch 29/100\n",
      "\u001b[1m513/546\u001b[0m \u001b[32m━━━━━━━━━━━━━━━━━━\u001b[0m\u001b[37m━━\u001b[0m \u001b[1m0s\u001b[0m 1ms/step - loss: 823.0325\n",
      "Epoch 29: val_loss did not improve from 662.49371\n",
      "\u001b[1m546/546\u001b[0m \u001b[32m━━━━━━━━━━━━━━━━━━━━\u001b[0m\u001b[37m\u001b[0m \u001b[1m1s\u001b[0m 1ms/step - loss: 820.9909 - val_loss: 671.5247\n",
      "Epoch 30/100\n",
      "\u001b[1m544/546\u001b[0m \u001b[32m━━━━━━━━━━━━━━━━━━━\u001b[0m\u001b[37m━\u001b[0m \u001b[1m0s\u001b[0m 1ms/step - loss: 726.5150\n",
      "Epoch 30: val_loss did not improve from 662.49371\n",
      "\u001b[1m546/546\u001b[0m \u001b[32m━━━━━━━━━━━━━━━━━━━━\u001b[0m\u001b[37m\u001b[0m \u001b[1m1s\u001b[0m 1ms/step - loss: 726.7740 - val_loss: 920.2165\n",
      "Epoch 31/100\n",
      "\u001b[1m529/546\u001b[0m \u001b[32m━━━━━━━━━━━━━━━━━━━\u001b[0m\u001b[37m━\u001b[0m \u001b[1m0s\u001b[0m 1ms/step - loss: 860.0630\n",
      "Epoch 31: val_loss improved from 662.49371 to 639.04608, saving model to final_models/seap_deep_learning_model.keras\n",
      "\u001b[1m546/546\u001b[0m \u001b[32m━━━━━━━━━━━━━━━━━━━━\u001b[0m\u001b[37m\u001b[0m \u001b[1m1s\u001b[0m 1ms/step - loss: 857.1104 - val_loss: 639.0461\n",
      "Epoch 32/100\n",
      "\u001b[1m498/546\u001b[0m \u001b[32m━━━━━━━━━━━━━━━━━━\u001b[0m\u001b[37m━━\u001b[0m \u001b[1m0s\u001b[0m 1ms/step - loss: 724.7631\n",
      "Epoch 32: val_loss did not improve from 639.04608\n",
      "\u001b[1m546/546\u001b[0m \u001b[32m━━━━━━━━━━━━━━━━━━━━\u001b[0m\u001b[37m\u001b[0m \u001b[1m1s\u001b[0m 1ms/step - loss: 722.4724 - val_loss: 721.5626\n",
      "Epoch 33/100\n",
      "\u001b[1m509/546\u001b[0m \u001b[32m━━━━━━━━━━━━━━━━━━\u001b[0m\u001b[37m━━\u001b[0m \u001b[1m0s\u001b[0m 1ms/step - loss: 777.1858\n",
      "Epoch 33: val_loss did not improve from 639.04608\n",
      "\u001b[1m546/546\u001b[0m \u001b[32m━━━━━━━━━━━━━━━━━━━━\u001b[0m\u001b[37m\u001b[0m \u001b[1m1s\u001b[0m 1ms/step - loss: 770.4199 - val_loss: 659.1636\n",
      "Epoch 34/100\n",
      "\u001b[1m531/546\u001b[0m \u001b[32m━━━━━━━━━━━━━━━━━━━\u001b[0m\u001b[37m━\u001b[0m \u001b[1m0s\u001b[0m 1ms/step - loss: 607.2198\n",
      "Epoch 34: val_loss did not improve from 639.04608\n",
      "\u001b[1m546/546\u001b[0m \u001b[32m━━━━━━━━━━━━━━━━━━━━\u001b[0m\u001b[37m\u001b[0m \u001b[1m1s\u001b[0m 1ms/step - loss: 609.3688 - val_loss: 670.7402\n",
      "Epoch 35/100\n",
      "\u001b[1m513/546\u001b[0m \u001b[32m━━━━━━━━━━━━━━━━━━\u001b[0m\u001b[37m━━\u001b[0m \u001b[1m0s\u001b[0m 1ms/step - loss: 775.6797\n",
      "Epoch 35: val_loss did not improve from 639.04608\n",
      "\u001b[1m546/546\u001b[0m \u001b[32m━━━━━━━━━━━━━━━━━━━━\u001b[0m\u001b[37m\u001b[0m \u001b[1m1s\u001b[0m 1ms/step - loss: 774.4018 - val_loss: 678.4870\n",
      "Epoch 36/100\n",
      "\u001b[1m499/546\u001b[0m \u001b[32m━━━━━━━━━━━━━━━━━━\u001b[0m\u001b[37m━━\u001b[0m \u001b[1m0s\u001b[0m 1ms/step - loss: 668.7118 \n",
      "Epoch 36: val_loss improved from 639.04608 to 584.09503, saving model to final_models/seap_deep_learning_model.keras\n",
      "\u001b[1m546/546\u001b[0m \u001b[32m━━━━━━━━━━━━━━━━━━━━\u001b[0m\u001b[37m\u001b[0m \u001b[1m1s\u001b[0m 1ms/step - loss: 668.5012 - val_loss: 584.0950\n",
      "Epoch 37/100\n",
      "\u001b[1m541/546\u001b[0m \u001b[32m━━━━━━━━━━━━━━━━━━━\u001b[0m\u001b[37m━\u001b[0m \u001b[1m0s\u001b[0m 1ms/step - loss: 526.9651\n",
      "Epoch 37: val_loss did not improve from 584.09503\n",
      "\u001b[1m546/546\u001b[0m \u001b[32m━━━━━━━━━━━━━━━━━━━━\u001b[0m\u001b[37m\u001b[0m \u001b[1m1s\u001b[0m 1ms/step - loss: 528.1008 - val_loss: 647.2645\n",
      "Epoch 38/100\n",
      "\u001b[1m518/546\u001b[0m \u001b[32m━━━━━━━━━━━━━━━━━━\u001b[0m\u001b[37m━━\u001b[0m \u001b[1m0s\u001b[0m 1ms/step - loss: 597.9229\n",
      "Epoch 38: val_loss did not improve from 584.09503\n",
      "\u001b[1m546/546\u001b[0m \u001b[32m━━━━━━━━━━━━━━━━━━━━\u001b[0m\u001b[37m\u001b[0m \u001b[1m1s\u001b[0m 1ms/step - loss: 600.5853 - val_loss: 663.6608\n",
      "Epoch 39/100\n",
      "\u001b[1m504/546\u001b[0m \u001b[32m━━━━━━━━━━━━━━━━━━\u001b[0m\u001b[37m━━\u001b[0m \u001b[1m0s\u001b[0m 1ms/step - loss: 572.0928\n",
      "Epoch 39: val_loss improved from 584.09503 to 565.26788, saving model to final_models/seap_deep_learning_model.keras\n",
      "\u001b[1m546/546\u001b[0m \u001b[32m━━━━━━━━━━━━━━━━━━━━\u001b[0m\u001b[37m\u001b[0m \u001b[1m1s\u001b[0m 1ms/step - loss: 578.8347 - val_loss: 565.2679\n",
      "Epoch 40/100\n",
      "\u001b[1m517/546\u001b[0m \u001b[32m━━━━━━━━━━━━━━━━━━\u001b[0m\u001b[37m━━\u001b[0m \u001b[1m0s\u001b[0m 1ms/step - loss: 639.1608\n",
      "Epoch 40: val_loss did not improve from 565.26788\n",
      "\u001b[1m546/546\u001b[0m \u001b[32m━━━━━━━━━━━━━━━━━━━━\u001b[0m\u001b[37m\u001b[0m \u001b[1m1s\u001b[0m 1ms/step - loss: 638.7792 - val_loss: 597.3552\n",
      "Epoch 41/100\n",
      "\u001b[1m508/546\u001b[0m \u001b[32m━━━━━━━━━━━━━━━━━━\u001b[0m\u001b[37m━━\u001b[0m \u001b[1m0s\u001b[0m 998us/step - loss: 699.9530\n",
      "Epoch 41: val_loss did not improve from 565.26788\n",
      "\u001b[1m546/546\u001b[0m \u001b[32m━━━━━━━━━━━━━━━━━━━━\u001b[0m\u001b[37m\u001b[0m \u001b[1m1s\u001b[0m 1ms/step - loss: 699.1148 - val_loss: 588.2054\n",
      "Epoch 42/100\n",
      "\u001b[1m500/546\u001b[0m \u001b[32m━━━━━━━━━━━━━━━━━━\u001b[0m\u001b[37m━━\u001b[0m \u001b[1m0s\u001b[0m 1ms/step - loss: 527.2558\n",
      "Epoch 42: val_loss did not improve from 565.26788\n",
      "\u001b[1m546/546\u001b[0m \u001b[32m━━━━━━━━━━━━━━━━━━━━\u001b[0m\u001b[37m\u001b[0m \u001b[1m1s\u001b[0m 1ms/step - loss: 540.2080 - val_loss: 1090.5670\n",
      "Epoch 43/100\n",
      "\u001b[1m545/546\u001b[0m \u001b[32m━━━━━━━━━━━━━━━━━━━\u001b[0m\u001b[37m━\u001b[0m \u001b[1m0s\u001b[0m 1ms/step - loss: 755.1503\n",
      "Epoch 43: val_loss did not improve from 565.26788\n",
      "\u001b[1m546/546\u001b[0m \u001b[32m━━━━━━━━━━━━━━━━━━━━\u001b[0m\u001b[37m\u001b[0m \u001b[1m1s\u001b[0m 2ms/step - loss: 754.9189 - val_loss: 624.3104\n",
      "Epoch 44/100\n",
      "\u001b[1m520/546\u001b[0m \u001b[32m━━━━━━━━━━━━━━━━━━━\u001b[0m\u001b[37m━\u001b[0m \u001b[1m0s\u001b[0m 1ms/step - loss: 570.2416\n",
      "Epoch 44: val_loss did not improve from 565.26788\n",
      "\u001b[1m546/546\u001b[0m \u001b[32m━━━━━━━━━━━━━━━━━━━━\u001b[0m\u001b[37m\u001b[0m \u001b[1m1s\u001b[0m 1ms/step - loss: 573.6252 - val_loss: 682.9747\n",
      "Epoch 45/100\n",
      "\u001b[1m493/546\u001b[0m \u001b[32m━━━━━━━━━━━━━━━━━━\u001b[0m\u001b[37m━━\u001b[0m \u001b[1m0s\u001b[0m 1ms/step - loss: 651.7028\n",
      "Epoch 45: val_loss improved from 565.26788 to 543.50366, saving model to final_models/seap_deep_learning_model.keras\n",
      "\u001b[1m546/546\u001b[0m \u001b[32m━━━━━━━━━━━━━━━━━━━━\u001b[0m\u001b[37m\u001b[0m \u001b[1m1s\u001b[0m 1ms/step - loss: 649.7742 - val_loss: 543.5037\n",
      "Epoch 46/100\n",
      "\u001b[1m510/546\u001b[0m \u001b[32m━━━━━━━━━━━━━━━━━━\u001b[0m\u001b[37m━━\u001b[0m \u001b[1m0s\u001b[0m 996us/step - loss: 564.2010\n",
      "Epoch 46: val_loss did not improve from 543.50366\n",
      "\u001b[1m546/546\u001b[0m \u001b[32m━━━━━━━━━━━━━━━━━━━━\u001b[0m\u001b[37m\u001b[0m \u001b[1m1s\u001b[0m 1ms/step - loss: 564.5898 - val_loss: 661.9283\n",
      "Epoch 47/100\n",
      "\u001b[1m537/546\u001b[0m \u001b[32m━━━━━━━━━━━━━━━━━━━\u001b[0m\u001b[37m━\u001b[0m \u001b[1m0s\u001b[0m 1ms/step - loss: 549.4009\n",
      "Epoch 47: val_loss did not improve from 543.50366\n",
      "\u001b[1m546/546\u001b[0m \u001b[32m━━━━━━━━━━━━━━━━━━━━\u001b[0m\u001b[37m\u001b[0m \u001b[1m1s\u001b[0m 1ms/step - loss: 550.7029 - val_loss: 1031.8525\n",
      "Epoch 48/100\n",
      "\u001b[1m529/546\u001b[0m \u001b[32m━━━━━━━━━━━━━━━━━━━\u001b[0m\u001b[37m━\u001b[0m \u001b[1m0s\u001b[0m 1ms/step - loss: 632.1249\n",
      "Epoch 48: val_loss did not improve from 543.50366\n",
      "\u001b[1m546/546\u001b[0m \u001b[32m━━━━━━━━━━━━━━━━━━━━\u001b[0m\u001b[37m\u001b[0m \u001b[1m1s\u001b[0m 2ms/step - loss: 630.0995 - val_loss: 747.8444\n",
      "Epoch 49/100\n",
      "\u001b[1m517/546\u001b[0m \u001b[32m━━━━━━━━━━━━━━━━━━\u001b[0m\u001b[37m━━\u001b[0m \u001b[1m0s\u001b[0m 1ms/step - loss: 660.5117\n",
      "Epoch 49: val_loss improved from 543.50366 to 535.61957, saving model to final_models/seap_deep_learning_model.keras\n",
      "\u001b[1m546/546\u001b[0m \u001b[32m━━━━━━━━━━━━━━━━━━━━\u001b[0m\u001b[37m\u001b[0m \u001b[1m1s\u001b[0m 2ms/step - loss: 657.0547 - val_loss: 535.6196\n",
      "Epoch 50/100\n",
      "\u001b[1m532/546\u001b[0m \u001b[32m━━━━━━━━━━━━━━━━━━━\u001b[0m\u001b[37m━\u001b[0m \u001b[1m0s\u001b[0m 1ms/step - loss: 756.0679\n",
      "Epoch 50: val_loss did not improve from 535.61957\n",
      "\u001b[1m546/546\u001b[0m \u001b[32m━━━━━━━━━━━━━━━━━━━━\u001b[0m\u001b[37m\u001b[0m \u001b[1m1s\u001b[0m 1ms/step - loss: 753.7532 - val_loss: 677.2598\n",
      "Epoch 51/100\n",
      "\u001b[1m500/546\u001b[0m \u001b[32m━━━━━━━━━━━━━━━━━━\u001b[0m\u001b[37m━━\u001b[0m \u001b[1m0s\u001b[0m 1ms/step - loss: 614.0100\n",
      "Epoch 51: val_loss improved from 535.61957 to 533.00562, saving model to final_models/seap_deep_learning_model.keras\n",
      "\u001b[1m546/546\u001b[0m \u001b[32m━━━━━━━━━━━━━━━━━━━━\u001b[0m\u001b[37m\u001b[0m \u001b[1m1s\u001b[0m 1ms/step - loss: 612.7390 - val_loss: 533.0056\n",
      "Epoch 52/100\n",
      "\u001b[1m497/546\u001b[0m \u001b[32m━━━━━━━━━━━━━━━━━━\u001b[0m\u001b[37m━━\u001b[0m \u001b[1m0s\u001b[0m 1ms/step - loss: 638.6868\n",
      "Epoch 52: val_loss did not improve from 533.00562\n",
      "\u001b[1m546/546\u001b[0m \u001b[32m━━━━━━━━━━━━━━━━━━━━\u001b[0m\u001b[37m\u001b[0m \u001b[1m1s\u001b[0m 1ms/step - loss: 634.4146 - val_loss: 635.7162\n",
      "Epoch 53/100\n",
      "\u001b[1m519/546\u001b[0m \u001b[32m━━━━━━━━━━━━━━━━━━━\u001b[0m\u001b[37m━\u001b[0m \u001b[1m0s\u001b[0m 2ms/step - loss: 992.6039 \n",
      "Epoch 53: val_loss did not improve from 533.00562\n",
      "\u001b[1m546/546\u001b[0m \u001b[32m━━━━━━━━━━━━━━━━━━━━\u001b[0m\u001b[37m\u001b[0m \u001b[1m1s\u001b[0m 2ms/step - loss: 977.9346 - val_loss: 814.5618\n",
      "Epoch 54/100\n",
      "\u001b[1m506/546\u001b[0m \u001b[32m━━━━━━━━━━━━━━━━━━\u001b[0m\u001b[37m━━\u001b[0m \u001b[1m0s\u001b[0m 1ms/step - loss: 477.7795   \n",
      "Epoch 54: val_loss did not improve from 533.00562\n",
      "\u001b[1m546/546\u001b[0m \u001b[32m━━━━━━━━━━━━━━━━━━━━\u001b[0m\u001b[37m\u001b[0m \u001b[1m1s\u001b[0m 1ms/step - loss: 485.8138 - val_loss: 662.7546\n",
      "Epoch 55/100\n",
      "\u001b[1m543/546\u001b[0m \u001b[32m━━━━━━━━━━━━━━━━━━━\u001b[0m\u001b[37m━\u001b[0m \u001b[1m0s\u001b[0m 1ms/step - loss: 554.3320\n",
      "Epoch 55: val_loss did not improve from 533.00562\n",
      "\u001b[1m546/546\u001b[0m \u001b[32m━━━━━━━━━━━━━━━━━━━━\u001b[0m\u001b[37m\u001b[0m \u001b[1m1s\u001b[0m 1ms/step - loss: 554.6059 - val_loss: 562.3930\n",
      "Epoch 56/100\n",
      "\u001b[1m543/546\u001b[0m \u001b[32m━━━━━━━━━━━━━━━━━━━\u001b[0m\u001b[37m━\u001b[0m \u001b[1m0s\u001b[0m 2ms/step - loss: 505.4696\n",
      "Epoch 56: val_loss did not improve from 533.00562\n",
      "\u001b[1m546/546\u001b[0m \u001b[32m━━━━━━━━━━━━━━━━━━━━\u001b[0m\u001b[37m\u001b[0m \u001b[1m2s\u001b[0m 2ms/step - loss: 505.8118 - val_loss: 601.0049\n",
      "Epoch 57/100\n",
      "\u001b[1m515/546\u001b[0m \u001b[32m━━━━━━━━━━━━━━━━━━\u001b[0m\u001b[37m━━\u001b[0m \u001b[1m0s\u001b[0m 1ms/step - loss: 590.6873\n",
      "Epoch 57: val_loss did not improve from 533.00562\n",
      "\u001b[1m546/546\u001b[0m \u001b[32m━━━━━━━━━━━━━━━━━━━━\u001b[0m\u001b[37m\u001b[0m \u001b[1m1s\u001b[0m 1ms/step - loss: 587.7825 - val_loss: 567.5876\n",
      "Epoch 58/100\n",
      "\u001b[1m539/546\u001b[0m \u001b[32m━━━━━━━━━━━━━━━━━━━\u001b[0m\u001b[37m━\u001b[0m \u001b[1m0s\u001b[0m 1ms/step - loss: 509.8977\n",
      "Epoch 58: val_loss did not improve from 533.00562\n",
      "\u001b[1m546/546\u001b[0m \u001b[32m━━━━━━━━━━━━━━━━━━━━\u001b[0m\u001b[37m\u001b[0m \u001b[1m1s\u001b[0m 1ms/step - loss: 510.9791 - val_loss: 677.0396\n",
      "Epoch 59/100\n",
      "\u001b[1m544/546\u001b[0m \u001b[32m━━━━━━━━━━━━━━━━━━━\u001b[0m\u001b[37m━\u001b[0m \u001b[1m0s\u001b[0m 1ms/step - loss: 574.4169\n",
      "Epoch 59: val_loss did not improve from 533.00562\n",
      "\u001b[1m546/546\u001b[0m \u001b[32m━━━━━━━━━━━━━━━━━━━━\u001b[0m\u001b[37m\u001b[0m \u001b[1m1s\u001b[0m 1ms/step - loss: 574.4231 - val_loss: 1011.9943\n",
      "Epoch 60/100\n",
      "\u001b[1m510/546\u001b[0m \u001b[32m━━━━━━━━━━━━━━━━━━\u001b[0m\u001b[37m━━\u001b[0m \u001b[1m0s\u001b[0m 1ms/step - loss: 731.0193\n",
      "Epoch 60: val_loss did not improve from 533.00562\n",
      "\u001b[1m546/546\u001b[0m \u001b[32m━━━━━━━━━━━━━━━━━━━━\u001b[0m\u001b[37m\u001b[0m \u001b[1m1s\u001b[0m 1ms/step - loss: 726.8813 - val_loss: 626.8195\n",
      "Epoch 61/100\n",
      "\u001b[1m520/546\u001b[0m \u001b[32m━━━━━━━━━━━━━━━━━━━\u001b[0m\u001b[37m━\u001b[0m \u001b[1m0s\u001b[0m 1ms/step - loss: 577.0509\n",
      "Epoch 61: val_loss improved from 533.00562 to 517.46753, saving model to final_models/seap_deep_learning_model.keras\n",
      "\u001b[1m546/546\u001b[0m \u001b[32m━━━━━━━━━━━━━━━━━━━━\u001b[0m\u001b[37m\u001b[0m \u001b[1m1s\u001b[0m 1ms/step - loss: 575.9813 - val_loss: 517.4675\n",
      "Epoch 62/100\n",
      "\u001b[1m515/546\u001b[0m \u001b[32m━━━━━━━━━━━━━━━━━━\u001b[0m\u001b[37m━━\u001b[0m \u001b[1m0s\u001b[0m 1ms/step - loss: 497.5116\n",
      "Epoch 62: val_loss did not improve from 517.46753\n",
      "\u001b[1m546/546\u001b[0m \u001b[32m━━━━━━━━━━━━━━━━━━━━\u001b[0m\u001b[37m\u001b[0m \u001b[1m1s\u001b[0m 1ms/step - loss: 500.5501 - val_loss: 517.5862\n",
      "Epoch 63/100\n",
      "\u001b[1m530/546\u001b[0m \u001b[32m━━━━━━━━━━━━━━━━━━━\u001b[0m\u001b[37m━\u001b[0m \u001b[1m0s\u001b[0m 1ms/step - loss: 476.4890\n",
      "Epoch 63: val_loss did not improve from 517.46753\n",
      "\u001b[1m546/546\u001b[0m \u001b[32m━━━━━━━━━━━━━━━━━━━━\u001b[0m\u001b[37m\u001b[0m \u001b[1m1s\u001b[0m 1ms/step - loss: 477.4150 - val_loss: 569.5463\n",
      "Epoch 64/100\n",
      "\u001b[1m516/546\u001b[0m \u001b[32m━━━━━━━━━━━━━━━━━━\u001b[0m\u001b[37m━━\u001b[0m \u001b[1m0s\u001b[0m 1ms/step - loss: 438.1073\n",
      "Epoch 64: val_loss did not improve from 517.46753\n",
      "\u001b[1m546/546\u001b[0m \u001b[32m━━━━━━━━━━━━━━━━━━━━\u001b[0m\u001b[37m\u001b[0m \u001b[1m1s\u001b[0m 1ms/step - loss: 443.8768 - val_loss: 596.2217\n",
      "Epoch 65/100\n",
      "\u001b[1m509/546\u001b[0m \u001b[32m━━━━━━━━━━━━━━━━━━\u001b[0m\u001b[37m━━\u001b[0m \u001b[1m0s\u001b[0m 1ms/step - loss: 650.6240\n",
      "Epoch 65: val_loss did not improve from 517.46753\n",
      "\u001b[1m546/546\u001b[0m \u001b[32m━━━━━━━━━━━━━━━━━━━━\u001b[0m\u001b[37m\u001b[0m \u001b[1m1s\u001b[0m 2ms/step - loss: 645.9891 - val_loss: 544.7322\n",
      "Epoch 66/100\n",
      "\u001b[1m517/546\u001b[0m \u001b[32m━━━━━━━━━━━━━━━━━━\u001b[0m\u001b[37m━━\u001b[0m \u001b[1m0s\u001b[0m 1ms/step - loss: 676.3815\n",
      "Epoch 66: val_loss improved from 517.46753 to 498.12524, saving model to final_models/seap_deep_learning_model.keras\n",
      "\u001b[1m546/546\u001b[0m \u001b[32m━━━━━━━━━━━━━━━━━━━━\u001b[0m\u001b[37m\u001b[0m \u001b[1m1s\u001b[0m 2ms/step - loss: 673.1345 - val_loss: 498.1252\n",
      "Epoch 67/100\n",
      "\u001b[1m526/546\u001b[0m \u001b[32m━━━━━━━━━━━━━━━━━━━\u001b[0m\u001b[37m━\u001b[0m \u001b[1m0s\u001b[0m 1ms/step - loss: 564.5563\n",
      "Epoch 67: val_loss improved from 498.12524 to 497.62909, saving model to final_models/seap_deep_learning_model.keras\n",
      "\u001b[1m546/546\u001b[0m \u001b[32m━━━━━━━━━━━━━━━━━━━━\u001b[0m\u001b[37m\u001b[0m \u001b[1m1s\u001b[0m 2ms/step - loss: 562.1782 - val_loss: 497.6291\n",
      "Epoch 68/100\n",
      "\u001b[1m520/546\u001b[0m \u001b[32m━━━━━━━━━━━━━━━━━━━\u001b[0m\u001b[37m━\u001b[0m \u001b[1m0s\u001b[0m 2ms/step - loss: 591.3819\n",
      "Epoch 68: val_loss improved from 497.62909 to 479.58923, saving model to final_models/seap_deep_learning_model.keras\n",
      "\u001b[1m546/546\u001b[0m \u001b[32m━━━━━━━━━━━━━━━━━━━━\u001b[0m\u001b[37m\u001b[0m \u001b[1m1s\u001b[0m 2ms/step - loss: 587.4478 - val_loss: 479.5892\n",
      "Epoch 69/100\n",
      "\u001b[1m518/546\u001b[0m \u001b[32m━━━━━━━━━━━━━━━━━━\u001b[0m\u001b[37m━━\u001b[0m \u001b[1m0s\u001b[0m 1ms/step - loss: 505.6874\n",
      "Epoch 69: val_loss did not improve from 479.58923\n",
      "\u001b[1m546/546\u001b[0m \u001b[32m━━━━━━━━━━━━━━━━━━━━\u001b[0m\u001b[37m\u001b[0m \u001b[1m1s\u001b[0m 2ms/step - loss: 505.6794 - val_loss: 537.0188\n",
      "Epoch 70/100\n",
      "\u001b[1m513/546\u001b[0m \u001b[32m━━━━━━━━━━━━━━━━━━\u001b[0m\u001b[37m━━\u001b[0m \u001b[1m0s\u001b[0m 2ms/step - loss: 526.2523\n",
      "Epoch 70: val_loss did not improve from 479.58923\n",
      "\u001b[1m546/546\u001b[0m \u001b[32m━━━━━━━━━━━━━━━━━━━━\u001b[0m\u001b[37m\u001b[0m \u001b[1m1s\u001b[0m 2ms/step - loss: 529.6992 - val_loss: 492.0201\n",
      "Epoch 71/100\n",
      "\u001b[1m509/546\u001b[0m \u001b[32m━━━━━━━━━━━━━━━━━━\u001b[0m\u001b[37m━━\u001b[0m \u001b[1m0s\u001b[0m 1ms/step - loss: 460.3590\n",
      "Epoch 71: val_loss did not improve from 479.58923\n",
      "\u001b[1m546/546\u001b[0m \u001b[32m━━━━━━━━━━━━━━━━━━━━\u001b[0m\u001b[37m\u001b[0m \u001b[1m1s\u001b[0m 2ms/step - loss: 464.3961 - val_loss: 491.7862\n",
      "Epoch 72/100\n",
      "\u001b[1m517/546\u001b[0m \u001b[32m━━━━━━━━━━━━━━━━━━\u001b[0m\u001b[37m━━\u001b[0m \u001b[1m0s\u001b[0m 1ms/step - loss: 486.8012\n",
      "Epoch 72: val_loss did not improve from 479.58923\n",
      "\u001b[1m546/546\u001b[0m \u001b[32m━━━━━━━━━━━━━━━━━━━━\u001b[0m\u001b[37m\u001b[0m \u001b[1m1s\u001b[0m 1ms/step - loss: 486.5424 - val_loss: 595.9546\n",
      "Epoch 73/100\n",
      "\u001b[1m535/546\u001b[0m \u001b[32m━━━━━━━━━━━━━━━━━━━\u001b[0m\u001b[37m━\u001b[0m \u001b[1m0s\u001b[0m 1ms/step - loss: 421.4191\n",
      "Epoch 73: val_loss improved from 479.58923 to 440.80869, saving model to final_models/seap_deep_learning_model.keras\n",
      "\u001b[1m546/546\u001b[0m \u001b[32m━━━━━━━━━━━━━━━━━━━━\u001b[0m\u001b[37m\u001b[0m \u001b[1m1s\u001b[0m 2ms/step - loss: 423.1798 - val_loss: 440.8087\n",
      "Epoch 74/100\n",
      "\u001b[1m510/546\u001b[0m \u001b[32m━━━━━━━━━━━━━━━━━━\u001b[0m\u001b[37m━━\u001b[0m \u001b[1m0s\u001b[0m 1ms/step - loss: 493.1603\n",
      "Epoch 74: val_loss did not improve from 440.80869\n",
      "\u001b[1m546/546\u001b[0m \u001b[32m━━━━━━━━━━━━━━━━━━━━\u001b[0m\u001b[37m\u001b[0m \u001b[1m1s\u001b[0m 1ms/step - loss: 495.6032 - val_loss: 587.2614\n",
      "Epoch 75/100\n",
      "\u001b[1m532/546\u001b[0m \u001b[32m━━━━━━━━━━━━━━━━━━━\u001b[0m\u001b[37m━\u001b[0m \u001b[1m0s\u001b[0m 1ms/step - loss: 488.7137\n",
      "Epoch 75: val_loss did not improve from 440.80869\n",
      "\u001b[1m546/546\u001b[0m \u001b[32m━━━━━━━━━━━━━━━━━━━━\u001b[0m\u001b[37m\u001b[0m \u001b[1m1s\u001b[0m 1ms/step - loss: 489.9948 - val_loss: 467.0236\n",
      "Epoch 76/100\n",
      "\u001b[1m527/546\u001b[0m \u001b[32m━━━━━━━━━━━━━━━━━━━\u001b[0m\u001b[37m━\u001b[0m \u001b[1m0s\u001b[0m 2ms/step - loss: 343.4521\n",
      "Epoch 76: val_loss did not improve from 440.80869\n",
      "\u001b[1m546/546\u001b[0m \u001b[32m━━━━━━━━━━━━━━━━━━━━\u001b[0m\u001b[37m\u001b[0m \u001b[1m1s\u001b[0m 2ms/step - loss: 347.9412 - val_loss: 446.5663\n",
      "Epoch 77/100\n",
      "\u001b[1m528/546\u001b[0m \u001b[32m━━━━━━━━━━━━━━━━━━━\u001b[0m\u001b[37m━\u001b[0m \u001b[1m0s\u001b[0m 1ms/step - loss: 381.5993\n",
      "Epoch 77: val_loss did not improve from 440.80869\n",
      "\u001b[1m546/546\u001b[0m \u001b[32m━━━━━━━━━━━━━━━━━━━━\u001b[0m\u001b[37m\u001b[0m \u001b[1m1s\u001b[0m 1ms/step - loss: 384.9687 - val_loss: 520.8568\n",
      "Epoch 78/100\n",
      "\u001b[1m502/546\u001b[0m \u001b[32m━━━━━━━━━━━━━━━━━━\u001b[0m\u001b[37m━━\u001b[0m \u001b[1m0s\u001b[0m 2ms/step - loss: 470.5895\n",
      "Epoch 78: val_loss did not improve from 440.80869\n",
      "\u001b[1m546/546\u001b[0m \u001b[32m━━━━━━━━━━━━━━━━━━━━\u001b[0m\u001b[37m\u001b[0m \u001b[1m1s\u001b[0m 2ms/step - loss: 474.9279 - val_loss: 744.2780\n",
      "Epoch 79/100\n",
      "\u001b[1m512/546\u001b[0m \u001b[32m━━━━━━━━━━━━━━━━━━\u001b[0m\u001b[37m━━\u001b[0m \u001b[1m0s\u001b[0m 1ms/step - loss: 454.5897\n",
      "Epoch 79: val_loss did not improve from 440.80869\n",
      "\u001b[1m546/546\u001b[0m \u001b[32m━━━━━━━━━━━━━━━━━━━━\u001b[0m\u001b[37m\u001b[0m \u001b[1m1s\u001b[0m 2ms/step - loss: 459.8821 - val_loss: 470.5240\n",
      "Epoch 80/100\n",
      "\u001b[1m532/546\u001b[0m \u001b[32m━━━━━━━━━━━━━━━━━━━\u001b[0m\u001b[37m━\u001b[0m \u001b[1m0s\u001b[0m 1ms/step - loss: 432.3009\n",
      "Epoch 80: val_loss did not improve from 440.80869\n",
      "\u001b[1m546/546\u001b[0m \u001b[32m━━━━━━━━━━━━━━━━━━━━\u001b[0m\u001b[37m\u001b[0m \u001b[1m1s\u001b[0m 2ms/step - loss: 433.6764 - val_loss: 583.8937\n",
      "Epoch 81/100\n",
      "\u001b[1m516/546\u001b[0m \u001b[32m━━━━━━━━━━━━━━━━━━\u001b[0m\u001b[37m━━\u001b[0m \u001b[1m0s\u001b[0m 1ms/step - loss: 477.6119\n",
      "Epoch 81: val_loss improved from 440.80869 to 394.11966, saving model to final_models/seap_deep_learning_model.keras\n",
      "\u001b[1m546/546\u001b[0m \u001b[32m━━━━━━━━━━━━━━━━━━━━\u001b[0m\u001b[37m\u001b[0m \u001b[1m1s\u001b[0m 2ms/step - loss: 475.6548 - val_loss: 394.1197\n",
      "Epoch 82/100\n",
      "\u001b[1m542/546\u001b[0m \u001b[32m━━━━━━━━━━━━━━━━━━━\u001b[0m\u001b[37m━\u001b[0m \u001b[1m0s\u001b[0m 1ms/step - loss: 521.0627\n",
      "Epoch 82: val_loss did not improve from 394.11966\n",
      "\u001b[1m546/546\u001b[0m \u001b[32m━━━━━━━━━━━━━━━━━━━━\u001b[0m\u001b[37m\u001b[0m \u001b[1m1s\u001b[0m 1ms/step - loss: 520.3369 - val_loss: 510.5983\n",
      "Epoch 83/100\n",
      "\u001b[1m528/546\u001b[0m \u001b[32m━━━━━━━━━━━━━━━━━━━\u001b[0m\u001b[37m━\u001b[0m \u001b[1m0s\u001b[0m 1ms/step - loss: 528.5140\n",
      "Epoch 83: val_loss did not improve from 394.11966\n",
      "\u001b[1m546/546\u001b[0m \u001b[32m━━━━━━━━━━━━━━━━━━━━\u001b[0m\u001b[37m\u001b[0m \u001b[1m1s\u001b[0m 2ms/step - loss: 525.9518 - val_loss: 449.5472\n",
      "Epoch 84/100\n",
      "\u001b[1m536/546\u001b[0m \u001b[32m━━━━━━━━━━━━━━━━━━━\u001b[0m\u001b[37m━\u001b[0m \u001b[1m0s\u001b[0m 1ms/step - loss: 581.0813\n",
      "Epoch 84: val_loss did not improve from 394.11966\n",
      "\u001b[1m546/546\u001b[0m \u001b[32m━━━━━━━━━━━━━━━━━━━━\u001b[0m\u001b[37m\u001b[0m \u001b[1m1s\u001b[0m 1ms/step - loss: 582.2599 - val_loss: 405.0848\n",
      "Epoch 85/100\n",
      "\u001b[1m517/546\u001b[0m \u001b[32m━━━━━━━━━━━━━━━━━━\u001b[0m\u001b[37m━━\u001b[0m \u001b[1m0s\u001b[0m 1ms/step - loss: 420.4293\n",
      "Epoch 85: val_loss did not improve from 394.11966\n",
      "\u001b[1m546/546\u001b[0m \u001b[32m━━━━━━━━━━━━━━━━━━━━\u001b[0m\u001b[37m\u001b[0m \u001b[1m1s\u001b[0m 1ms/step - loss: 422.6485 - val_loss: 397.7191\n",
      "Epoch 86/100\n",
      "\u001b[1m518/546\u001b[0m \u001b[32m━━━━━━━━━━━━━━━━━━\u001b[0m\u001b[37m━━\u001b[0m \u001b[1m0s\u001b[0m 1ms/step - loss: 340.6031\n",
      "Epoch 86: val_loss did not improve from 394.11966\n",
      "\u001b[1m546/546\u001b[0m \u001b[32m━━━━━━━━━━━━━━━━━━━━\u001b[0m\u001b[37m\u001b[0m \u001b[1m1s\u001b[0m 1ms/step - loss: 345.2353 - val_loss: 462.9446\n",
      "Epoch 87/100\n",
      "\u001b[1m507/546\u001b[0m \u001b[32m━━━━━━━━━━━━━━━━━━\u001b[0m\u001b[37m━━\u001b[0m \u001b[1m0s\u001b[0m 1ms/step - loss: 407.4676\n",
      "Epoch 87: val_loss did not improve from 394.11966\n",
      "\u001b[1m546/546\u001b[0m \u001b[32m━━━━━━━━━━━━━━━━━━━━\u001b[0m\u001b[37m\u001b[0m \u001b[1m1s\u001b[0m 1ms/step - loss: 406.8738 - val_loss: 479.8462\n",
      "Epoch 88/100\n",
      "\u001b[1m535/546\u001b[0m \u001b[32m━━━━━━━━━━━━━━━━━━━\u001b[0m\u001b[37m━\u001b[0m \u001b[1m0s\u001b[0m 1ms/step - loss: 442.1298\n",
      "Epoch 88: val_loss did not improve from 394.11966\n",
      "\u001b[1m546/546\u001b[0m \u001b[32m━━━━━━━━━━━━━━━━━━━━\u001b[0m\u001b[37m\u001b[0m \u001b[1m1s\u001b[0m 1ms/step - loss: 441.8506 - val_loss: 436.7038\n",
      "Epoch 89/100\n",
      "\u001b[1m545/546\u001b[0m \u001b[32m━━━━━━━━━━━━━━━━━━━\u001b[0m\u001b[37m━\u001b[0m \u001b[1m0s\u001b[0m 1ms/step - loss: 407.2730\n",
      "Epoch 89: val_loss improved from 394.11966 to 350.40714, saving model to final_models/seap_deep_learning_model.keras\n",
      "\u001b[1m546/546\u001b[0m \u001b[32m━━━━━━━━━━━━━━━━━━━━\u001b[0m\u001b[37m\u001b[0m \u001b[1m1s\u001b[0m 1ms/step - loss: 407.3897 - val_loss: 350.4071\n",
      "Epoch 90/100\n",
      "\u001b[1m505/546\u001b[0m \u001b[32m━━━━━━━━━━━━━━━━━━\u001b[0m\u001b[37m━━\u001b[0m \u001b[1m0s\u001b[0m 1ms/step - loss: 518.6189  \n",
      "Epoch 90: val_loss did not improve from 350.40714\n",
      "\u001b[1m546/546\u001b[0m \u001b[32m━━━━━━━━━━━━━━━━━━━━\u001b[0m\u001b[37m\u001b[0m \u001b[1m1s\u001b[0m 1ms/step - loss: 517.8885 - val_loss: 553.9731\n",
      "Epoch 91/100\n",
      "\u001b[1m516/546\u001b[0m \u001b[32m━━━━━━━━━━━━━━━━━━\u001b[0m\u001b[37m━━\u001b[0m \u001b[1m0s\u001b[0m 984us/step - loss: 565.1770\n",
      "Epoch 91: val_loss did not improve from 350.40714\n",
      "\u001b[1m546/546\u001b[0m \u001b[32m━━━━━━━━━━━━━━━━━━━━\u001b[0m\u001b[37m\u001b[0m \u001b[1m1s\u001b[0m 1ms/step - loss: 557.1405 - val_loss: 408.6525\n",
      "Epoch 92/100\n",
      "\u001b[1m499/546\u001b[0m \u001b[32m━━━━━━━━━━━━━━━━━━\u001b[0m\u001b[37m━━\u001b[0m \u001b[1m0s\u001b[0m 1ms/step - loss: 530.5775\n",
      "Epoch 92: val_loss did not improve from 350.40714\n",
      "\u001b[1m546/546\u001b[0m \u001b[32m━━━━━━━━━━━━━━━━━━━━\u001b[0m\u001b[37m\u001b[0m \u001b[1m1s\u001b[0m 1ms/step - loss: 521.6339 - val_loss: 429.4365\n",
      "Epoch 93/100\n",
      "\u001b[1m512/546\u001b[0m \u001b[32m━━━━━━━━━━━━━━━━━━\u001b[0m\u001b[37m━━\u001b[0m \u001b[1m0s\u001b[0m 1ms/step - loss: 293.0999\n",
      "Epoch 93: val_loss did not improve from 350.40714\n",
      "\u001b[1m546/546\u001b[0m \u001b[32m━━━━━━━━━━━━━━━━━━━━\u001b[0m\u001b[37m\u001b[0m \u001b[1m1s\u001b[0m 1ms/step - loss: 299.5291 - val_loss: 502.9449\n",
      "Epoch 94/100\n",
      "\u001b[1m495/546\u001b[0m \u001b[32m━━━━━━━━━━━━━━━━━━\u001b[0m\u001b[37m━━\u001b[0m \u001b[1m0s\u001b[0m 1ms/step - loss: 331.7770\n",
      "Epoch 94: val_loss did not improve from 350.40714\n",
      "\u001b[1m546/546\u001b[0m \u001b[32m━━━━━━━━━━━━━━━━━━━━\u001b[0m\u001b[37m\u001b[0m \u001b[1m1s\u001b[0m 1ms/step - loss: 338.9869 - val_loss: 380.9601\n",
      "Epoch 95/100\n",
      "\u001b[1m543/546\u001b[0m \u001b[32m━━━━━━━━━━━━━━━━━━━\u001b[0m\u001b[37m━\u001b[0m \u001b[1m0s\u001b[0m 1ms/step - loss: 448.6602\n",
      "Epoch 95: val_loss improved from 350.40714 to 341.36780, saving model to final_models/seap_deep_learning_model.keras\n",
      "\u001b[1m546/546\u001b[0m \u001b[32m━━━━━━━━━━━━━━━━━━━━\u001b[0m\u001b[37m\u001b[0m \u001b[1m1s\u001b[0m 1ms/step - loss: 447.9909 - val_loss: 341.3678\n",
      "Epoch 96/100\n",
      "\u001b[1m544/546\u001b[0m \u001b[32m━━━━━━━━━━━━━━━━━━━\u001b[0m\u001b[37m━\u001b[0m \u001b[1m0s\u001b[0m 1ms/step - loss: 413.8190\n",
      "Epoch 96: val_loss did not improve from 341.36780\n",
      "\u001b[1m546/546\u001b[0m \u001b[32m━━━━━━━━━━━━━━━━━━━━\u001b[0m\u001b[37m\u001b[0m \u001b[1m1s\u001b[0m 1ms/step - loss: 413.7446 - val_loss: 398.8012\n",
      "Epoch 97/100\n",
      "\u001b[1m531/546\u001b[0m \u001b[32m━━━━━━━━━━━━━━━━━━━\u001b[0m\u001b[37m━\u001b[0m \u001b[1m0s\u001b[0m 1ms/step - loss: 483.3947\n",
      "Epoch 97: val_loss did not improve from 341.36780\n",
      "\u001b[1m546/546\u001b[0m \u001b[32m━━━━━━━━━━━━━━━━━━━━\u001b[0m\u001b[37m\u001b[0m \u001b[1m1s\u001b[0m 1ms/step - loss: 482.7885 - val_loss: 347.1782\n",
      "Epoch 98/100\n",
      "\u001b[1m533/546\u001b[0m \u001b[32m━━━━━━━━━━━━━━━━━━━\u001b[0m\u001b[37m━\u001b[0m \u001b[1m0s\u001b[0m 1ms/step - loss: 430.8871\n",
      "Epoch 98: val_loss did not improve from 341.36780\n",
      "\u001b[1m546/546\u001b[0m \u001b[32m━━━━━━━━━━━━━━━━━━━━\u001b[0m\u001b[37m\u001b[0m \u001b[1m1s\u001b[0m 2ms/step - loss: 429.8087 - val_loss: 368.5592\n",
      "Epoch 99/100\n",
      "\u001b[1m505/546\u001b[0m \u001b[32m━━━━━━━━━━━━━━━━━━\u001b[0m\u001b[37m━━\u001b[0m \u001b[1m0s\u001b[0m 1ms/step - loss: 347.1609\n",
      "Epoch 99: val_loss did not improve from 341.36780\n",
      "\u001b[1m546/546\u001b[0m \u001b[32m━━━━━━━━━━━━━━━━━━━━\u001b[0m\u001b[37m\u001b[0m \u001b[1m1s\u001b[0m 1ms/step - loss: 348.4211 - val_loss: 407.0018\n",
      "Epoch 100/100\n",
      "\u001b[1m513/546\u001b[0m \u001b[32m━━━━━━━━━━━━━━━━━━\u001b[0m\u001b[37m━━\u001b[0m \u001b[1m0s\u001b[0m 1ms/step - loss: 408.4679\n",
      "Epoch 100: val_loss did not improve from 341.36780\n",
      "\u001b[1m546/546\u001b[0m \u001b[32m━━━━━━━━━━━━━━━━━━━━\u001b[0m\u001b[37m\u001b[0m \u001b[1m1s\u001b[0m 1ms/step - loss: 409.3227 - val_loss: 601.8062\n"
     ]
    },
    {
     "data": {
      "text/plain": [
       "<keras.src.callbacks.history.History at 0x24ea2d0f250>"
      ]
     },
     "execution_count": 17,
     "metadata": {},
     "output_type": "execute_result"
    }
   ],
   "source": [
    "# Early Stopping to halt training if no improvement is observed\n",
    "early_stopping = EarlyStopping(monitor='val_loss', patience=10, verbose=1)\n",
    "\n",
    "# Train the Deep Learning model\n",
    "dl_model.fit(X_train_scaled, y_train, epochs=100, batch_size=32, \n",
    "             validation_data=(X_test_scaled, y_test), \n",
    "             callbacks=[model_checkpoint, early_stopping])\n"
   ]
  },
  {
   "cell_type": "markdown",
   "metadata": {},
   "source": [
    "## 8. Predictions and Evaluation of the Deep Learning Model\n",
    "\n",
    "After training the deep learning model, we proceed to make predictions and evaluate its performance using several metrics. Below is the code for this process:"
   ]
  },
  {
   "cell_type": "code",
   "execution_count": 18,
   "metadata": {},
   "outputs": [
    {
     "name": "stdout",
     "output_type": "stream",
     "text": [
      "\u001b[1m137/137\u001b[0m \u001b[32m━━━━━━━━━━━━━━━━━━━━\u001b[0m\u001b[37m\u001b[0m \u001b[1m0s\u001b[0m 1ms/step\n",
      "DL Model - MAE: 5.119575843792624, RMSE: 24.485713030715917, R²: 0.913754940032959\n"
     ]
    }
   ],
   "source": [
    "# Predictions with the Deep Learning model\n",
    "dl_predictions = dl_model.predict(X_test_scaled)\n",
    "\n",
    "# Evaluate the Deep Learning model\n",
    "dl_mae = mean_absolute_error(y_test, dl_predictions)\n",
    "dl_rmse = np.sqrt(mean_squared_error(y_test, dl_predictions))  # Changed to avoid warning\n",
    "dl_r2 = r2_score(y_test, dl_predictions)\n",
    "\n",
    "# Print results\n",
    "print(f\"DL Model - MAE: {dl_mae}, RMSE: {dl_rmse}, R²: {dl_r2}\")"
   ]
  },
  {
   "cell_type": "markdown",
   "metadata": {},
   "source": [
    "\n",
    "The deep learning model achieved an MAE of 5.12 and an RMSE of 24.49, indicating some significant prediction errors. However, with an R² value of 0.91, it explains approximately 91% of the variance in the target variables, demonstrating strong predictive capability. Overall, the model performs well, but further refinement could help reduce larger discrepancies in predictions.\n"
   ]
  },
  {
   "cell_type": "markdown",
   "metadata": {},
   "source": [
    "### Cross-Validation Implementation\n",
    "The cross-validation process was set up using KFold with 5 splits, enabling the model to be trained and validated on different subsets of the training data. For each fold, a deep learning model was defined and trained, capturing the MAE, RMSE, and R² metrics for each validation set. This approach ensures a more robust evaluation of the model's performance by assessing its ability to generalize across different data distributions."
   ]
  },
  {
   "cell_type": "code",
   "execution_count": 19,
   "metadata": {},
   "outputs": [
    {
     "name": "stdout",
     "output_type": "stream",
     "text": [
      "\u001b[1m110/110\u001b[0m \u001b[32m━━━━━━━━━━━━━━━━━━━━\u001b[0m\u001b[37m\u001b[0m \u001b[1m0s\u001b[0m 1ms/step  \n",
      "\u001b[1m110/110\u001b[0m \u001b[32m━━━━━━━━━━━━━━━━━━━━\u001b[0m\u001b[37m\u001b[0m \u001b[1m0s\u001b[0m 1ms/step\n",
      "\u001b[1m110/110\u001b[0m \u001b[32m━━━━━━━━━━━━━━━━━━━━\u001b[0m\u001b[37m\u001b[0m \u001b[1m0s\u001b[0m 1ms/step  \n",
      "\u001b[1m110/110\u001b[0m \u001b[32m━━━━━━━━━━━━━━━━━━━━\u001b[0m\u001b[37m\u001b[0m \u001b[1m0s\u001b[0m 1ms/step\n",
      "\u001b[1m110/110\u001b[0m \u001b[32m━━━━━━━━━━━━━━━━━━━━\u001b[0m\u001b[37m\u001b[0m \u001b[1m0s\u001b[0m 1ms/step\n",
      "Cross-Validation Results - MAE: 5.443674657109706, RMSE: 27.170737154910533, R²: 0.8677675557655835\n"
     ]
    }
   ],
   "source": [
    "### Implementing Cross-Validation\n",
    "\n",
    "# KFold Configuration\n",
    "kfold = KFold(n_splits=5, shuffle=True, random_state=42)\n",
    "\n",
    "# Store metrics for each fold\n",
    "mae_list = []\n",
    "rmse_list = []\n",
    "r2_list = []\n",
    "\n",
    "# Perform cross-validation\n",
    "for train_index, val_index in kfold.split(X_train_scaled):\n",
    "    X_train_cv, X_val_cv = X_train_scaled[train_index], X_train_scaled[val_index]\n",
    "    y_train_cv, y_val_cv = y_train.values[train_index], y_train.values[val_index]\n",
    "\n",
    "    # Define the model\n",
    "    cv_model = Sequential()\n",
    "    cv_model.add(Input(shape=(X.shape[1],)))\n",
    "    cv_model.add(Dense(128, activation='relu'))\n",
    "    cv_model.add(Dense(64, activation='relu'))\n",
    "    cv_model.add(Dense(32, activation='relu'))\n",
    "    cv_model.add(Dense(16, activation='relu'))\n",
    "    cv_model.add(Dense(4, activation='linear'))\n",
    "\n",
    "    # Compile the model\n",
    "    cv_model.compile(optimizer='adam', loss='mean_squared_error')\n",
    "\n",
    "    # Train the model\n",
    "    cv_model.fit(X_train_cv, y_train_cv, epochs=50, batch_size=32, \n",
    "                 validation_data=(X_val_cv, y_val_cv), \n",
    "                 verbose=0)  # Suppress training output for cleanliness\n",
    "\n",
    "    # Predictions\n",
    "    y_val_pred = cv_model.predict(X_val_cv)\n",
    "\n",
    "    # Calculate metrics\n",
    "    mae = mean_absolute_error(y_val_cv, y_val_pred)\n",
    "    rmse = np.sqrt(mean_squared_error(y_val_cv, y_val_pred))\n",
    "    r2 = r2_score(y_val_cv, y_val_pred)\n",
    "\n",
    "    # Store metrics\n",
    "    mae_list.append(mae)\n",
    "    rmse_list.append(rmse)\n",
    "    r2_list.append(r2)\n",
    "\n",
    "# Print the average cross-validation metrics\n",
    "print(f\"Cross-Validation Results - MAE: {np.mean(mae_list)}, RMSE: {np.mean(rmse_list)}, R²: {np.mean(r2_list)}\")\n"
   ]
  },
  {
   "cell_type": "markdown",
   "metadata": {},
   "source": [
    "### Results:\n",
    "- **MAE:** 5.44\n",
    "- **RMSE:** 27.17\n",
    "- **R²:** 0.87\n",
    "\n",
    "The neural network also shows good performance, but its training time was longer compared to Random Forest. The results indicate that deep learning could be a viable approach, though careful tuning of hyperparameters is required. \n",
    "\n",
    "Future adjustments to improve the model could include hyperparameter tuning, exploring different model architectures, and implementing regularization techniques. Additionally, more extensive testing with various datasets and cross-validation methods will be necessary to ensure robustness and generalization of the model."
   ]
  },
  {
   "cell_type": "markdown",
   "metadata": {},
   "source": [
    "---"
   ]
  },
  {
   "cell_type": "markdown",
   "metadata": {},
   "source": [
    "### Recurrent Neural Network (RNN) for Renewable Energy Prediction"
   ]
  },
  {
   "cell_type": "code",
   "execution_count": null,
   "metadata": {},
   "outputs": [],
   "source": [
    "\n",
    "# Step 1: Define features (X) and target (y)\n",
    "X = df[[\n",
    "    'year', 'population', 'gdp', 'electricity_demand', 'electricity_generation',\n",
    "    'energy_cons_change_twh', 'energy_per_capita', 'energy_per_gdp',\n",
    "    'solar_consumption', 'wind_consumption', 'biofuel_consumption'\n",
    "]]\n",
    "\n",
    "y = df[['solar_electricity', 'wind_electricity', 'hydro_electricity', 'biofuel_electricity']]"
   ]
  },
  {
   "cell_type": "code",
   "execution_count": null,
   "metadata": {},
   "outputs": [],
   "source": [
    "# Step 2: Split the data into training and testing sets\n",
    "X_train, X_test, y_train, y_test = train_test_split(X, y, test_size=0.2, random_state=42)"
   ]
  },
  {
   "cell_type": "code",
   "execution_count": null,
   "metadata": {},
   "outputs": [],
   "source": [
    "# Step 3: Normalize the data\n",
    "scaler = StandardScaler()\n",
    "X_train_scaled = scaler.fit_transform(X_train)  # Fit and transform the training data\n",
    "X_test_scaled = scaler.transform(X_test)  # Only transform the testing data"
   ]
  },
  {
   "cell_type": "code",
   "execution_count": null,
   "metadata": {},
   "outputs": [],
   "source": [
    "# Step 4: Reshape the data for RNN input\n",
    "# Reshape to [samples, time steps, features]\n",
    "X_train_reshaped = X_train_scaled.reshape((X_train_scaled.shape[0], 1, X_train_scaled.shape[1]))  # [samples, time steps, features]\n",
    "X_test_reshaped = X_test_scaled.reshape((X_test_scaled.shape[0], 1, X_test_scaled.shape[1]))  # [samples, time steps, features]"
   ]
  },
  {
   "cell_type": "code",
   "execution_count": null,
   "metadata": {},
   "outputs": [],
   "source": [
    "# Step 5: Define the RNN model\n",
    "rnn_model = Sequential()\n",
    "rnn_model.add(SimpleRNN(50, activation='relu', input_shape=(X_train_reshaped.shape[1], X_train_reshaped.shape[2])))  # RNN layer\n",
    "rnn_model.add(Dense(4, activation='linear'))  # Output layer for 4 target variables"
   ]
  },
  {
   "cell_type": "code",
   "execution_count": null,
   "metadata": {},
   "outputs": [],
   "source": [
    "# Step 6: Compile the model\n",
    "rnn_model.compile(optimizer='adam', loss='mean_squared_error')"
   ]
  },
  {
   "cell_type": "markdown",
   "metadata": {},
   "source": [
    "### Model Checkpoint Callback\n",
    "\n",
    "To ensure that we save the best performing model during training, we utilize a callback mechanism provided by Keras. Below is the implementation of the checkpointing functionality:"
   ]
  },
  {
   "cell_type": "code",
   "execution_count": null,
   "metadata": {},
   "outputs": [],
   "source": [
    "# Step 7: Callback to save the best model\n",
    "checkpoint_path = 'final_models/seap_dp_rnn_model.keras'  # Path where the model will be saved\n",
    "model_checkpoint = ModelCheckpoint(\n",
    "    filepath=checkpoint_path,\n",
    "    save_best_only=True,\n",
    "    monitor='val_loss',  # Monitors the validation loss\n",
    "    mode='min',          # Saves the model if the validation loss decreases\n",
    "    verbose=1\n",
    ")"
   ]
  },
  {
   "cell_type": "code",
   "execution_count": null,
   "metadata": {},
   "outputs": [],
   "source": [
    "# Step 8: Early Stopping to halt training if no improvement is observed\n",
    "\n",
    "# Early Stopping to halt training if no improvement is observed\n",
    "early_stopping = EarlyStopping(monitor='val_loss', patience=10, verbose=1)\n",
    "\n",
    "# Train the Deep Learning model\n",
    "dl_model.fit(X_train_scaled, y_train, epochs=100, batch_size=32, \n",
    "             validation_data=(X_test_scaled, y_test), \n",
    "             callbacks=[model_checkpoint, early_stopping])\n"
   ]
  },
  {
   "cell_type": "code",
   "execution_count": null,
   "metadata": {},
   "outputs": [],
   "source": [
    "# Step 9: Set up Early Stopping and Model Checkpoint\n",
    "early_stopping = EarlyStopping(monitor='val_loss', patience=10, restore_best_weights=True)\n",
    "model_checkpoint = ModelCheckpoint('seap_rnn_dp_model.keras', monitor='val_loss', save_best_only=True)"
   ]
  },
  {
   "cell_type": "code",
   "execution_count": null,
   "metadata": {},
   "outputs": [],
   "source": [
    "# Step 10: Train the RNN model with validation split\n",
    "history = rnn_model.fit(X_train_reshaped, y_train, epochs=100, batch_size=32, \n",
    "                        validation_split=0.2, callbacks=[early_stopping, model_checkpoint])"
   ]
  },
  {
   "cell_type": "code",
   "execution_count": null,
   "metadata": {},
   "outputs": [],
   "source": [
    "# Step 11: Make predictions\n",
    "rnn_predictions = rnn_model.predict(X_test_reshaped)"
   ]
  },
  {
   "cell_type": "code",
   "execution_count": null,
   "metadata": {},
   "outputs": [],
   "source": [
    "# Step 12: Evaluate the model\n",
    "rnn_mae = mean_absolute_error(y_test, rnn_predictions)\n",
    "rnn_rmse = np.sqrt(mean_squared_error(y_test, rnn_predictions))\n",
    "rnn_r2 = r2_score(y_test, rnn_predictions)\n",
    "\n",
    "# Print evaluation metrics\n",
    "print(f\"RNN Model - MAE: {rnn_mae}, RMSE: {rnn_rmse}, R²: {rnn_r2}\")"
   ]
  },
  {
   "cell_type": "code",
   "execution_count": null,
   "metadata": {},
   "outputs": [],
   "source": [
    "# Step 13: Visualize the predictions\n",
    "plt.figure(figsize=(14, 7))\n",
    "\n",
    "# Plot for each output variable\n",
    "for i, column in enumerate(y.columns):\n",
    "    plt.subplot(2, 2, i + 1)\n",
    "    plt.plot(y_test[column].values, label='True Values', color='blue')\n",
    "    plt.plot(rnn_predictions[:, i], label='Predictions', color='red')\n",
    "    plt.title(f'Actual vs Predicted for {column}')\n",
    "    plt.xlabel('Sample')\n",
    "    plt.ylabel(column)\n",
    "    plt.legend()\n",
    "\n",
    "plt.tight_layout()\n",
    "plt.show()"
   ]
  },
  {
   "cell_type": "markdown",
   "metadata": {},
   "source": [
    "---"
   ]
  },
  {
   "cell_type": "markdown",
   "metadata": {},
   "source": [
    "## 9. Visualizations"
   ]
  },
  {
   "cell_type": "markdown",
   "metadata": {},
   "source": [
    "### Comprehensive Model Evaluation Visualizations\n",
    "\n",
    "This section presents a series of six visualizations that facilitate the evaluation of the model's performance. The plots include:\n",
    "\n",
    "1. **Comparison of Actual vs. Predicted Values for Output Variables in Deep Learning**: A general overview of how well the model's predictions align with actual values across different output variables.\n",
    "\n",
    "2. **Actual vs. Predicted Electricity Demand**: A scatter plot that compares the actual electricity demand with the predicted values from the model, helping to assess the accuracy of the predictions.\n",
    "  \n",
    "3. **Predictions vs. Actual Values for Energy Consumption**: A line plot illustrating the relationship between predicted energy consumption and actual measurements, allowing for a detailed comparison over samples.\n",
    "  \n",
    "4. **Residuals vs. Predicted Values**: A scatter plot of residuals (errors) against predicted values, which helps identify any patterns indicating model biases or areas for improvement.\n",
    "\n",
    "5. **Learning Curve**: Graphs illustrating how training and test scores change with varying training sizes, providing insights into the model's learning behavior and potential overfitting or underfitting issues.\n",
    "\n",
    "6. **Predictions vs. Actual Values in General**: A scatter plot comparing all predictions against actual values to give an overall view of model performance.\n",
    "\n",
    "\n"
   ]
  },
  {
   "cell_type": "markdown",
   "metadata": {},
   "source": [
    "### Comparison of Actual vs. Predicted Values for Output Variables in deep learning"
   ]
  },
  {
   "cell_type": "code",
   "execution_count": null,
   "metadata": {},
   "outputs": [],
   "source": [
    "# Step 11: Visualize the predictions\n",
    "plt.figure(figsize=(14, 7))\n",
    "\n",
    "# Plot for each output variable\n",
    "for i, column in enumerate(y.columns):\n",
    "    plt.subplot(2, 2, i + 1)\n",
    "    plt.plot(y_test[column].values, label='True Values', color='blue')\n",
    "    plt.plot(dl_predictions[:, i], label='Predictions', color='red')\n",
    "    plt.title(f'Actual vs Predicted for {column}')\n",
    "    plt.xlabel('Sample')\n",
    "    plt.ylabel(column)\n",
    "    plt.legend()\n",
    "\n",
    "plt.tight_layout()\n",
    "plt.show()"
   ]
  },
  {
   "cell_type": "markdown",
   "metadata": {},
   "source": [
    " - > **Outcome**: This visualization provides insights into the model's predictive accuracy and highlights areas where the model may need improvement.\n"
   ]
  },
  {
   "cell_type": "markdown",
   "metadata": {},
   "source": [
    "### Actual vs Predicted Electricity Demand"
   ]
  },
  {
   "cell_type": "code",
   "execution_count": 20,
   "metadata": {},
   "outputs": [
    {
     "data": {
      "image/png": "[encoded data removed]",
      "text/plain": [
       "<Figure size 900x400 with 1 Axes>"
      ]
     },
     "metadata": {},
     "output_type": "display_data"
    }
   ],
   "source": [
    "# Create a figure for the scatter plot with specified dimensions\n",
    "plt.figure(figsize=(9, 4))\n",
    "\n",
    "# Scatter plot showing actual vs predicted electricity demand with some transparency\n",
    "plt.scatter(y_test, y_pred_rf, alpha=0.5)\n",
    "\n",
    "# Plot a reference line for perfect predictions (y = x) using a dashed red line\n",
    "plt.plot([y.min(), y.max()], [y.min(), y.max()], 'r--')\n",
    "\n",
    "# Label for the x-axis representing actual electricity demand\n",
    "plt.xlabel('Actual Electricity Demand')\n",
    "\n",
    "# Label for the y-axis representing predicted electricity demand\n",
    "plt.ylabel('Predicted Electricity Demand')\n",
    "\n",
    "# Title for the plot to indicate the content being visualized\n",
    "plt.title('Actual vs Predicted Electricity Demand')\n",
    "\n",
    "# Display the plot\n",
    "plt.show()"
   ]
  },
  {
   "cell_type": "markdown",
   "metadata": {},
   "source": [
    "\n",
    " - > **Outcome**:   Points close to the red dashed reference line indicate accurate predictions, while points that deviate significantly from this line suggest that the model is misestimating demand. A tight clustering of points around the line would indicate high model accuracy, whereas a spread of points indicates potential areas for model improvement.\n"
   ]
  },
  {
   "cell_type": "markdown",
   "metadata": {},
   "source": [
    "### Predictions vs Actual Values for Energy Consumption\n"
   ]
  },
  {
   "cell_type": "code",
   "execution_count": 21,
   "metadata": {},
   "outputs": [
    {
     "data": {
      "image/png": "[encoded data removed]",
      "text/plain": [
       "<Figure size 950x500 with 1 Axes>"
      ]
     },
     "metadata": {},
     "output_type": "display_data"
    }
   ],
   "source": [
    "# Set the index for the output variable to be visualized\n",
    "output_index = 0\n",
    "\n",
    "# Create a figure for the line plot with specified dimensions\n",
    "plt.figure(figsize=(9.5, 5))\n",
    "\n",
    "# Plot actual values using blue circles, with some transparency\n",
    "plt.plot(y_test.values[:, output_index], label='Actual Values', marker='o', color='blue', linestyle='-', alpha=0.7)\n",
    "\n",
    "# Plot predicted values using orange crosses, with a dashed line style\n",
    "plt.plot(y_pred_rf[:, output_index], label='Predictions', marker='x', color='orange', linestyle='--', alpha=0.7)\n",
    "\n",
    "# Title for the plot indicating the context of energy consumption predictions vs actual values\n",
    "plt.title('Predictions vs Actual Values for Energy Consumption')\n",
    "\n",
    "# Label for the x-axis representing the sample indices\n",
    "plt.xlabel('Samples')\n",
    "\n",
    "# Label for the y-axis representing energy consumption values\n",
    "plt.ylabel('Energy Consumption')\n",
    "\n",
    "# Add a legend to differentiate between actual values and predictions\n",
    "plt.legend()\n",
    "\n",
    "# Display the plot\n",
    "plt.show()\n"
   ]
  },
  {
   "cell_type": "markdown",
   "metadata": {},
   "source": [
    "   - > **Outcome**: An ideal line plot would show the predicted values closely following the actual values over all samples. Deviations from this trend can highlight specific instances where the model may have underperformed, helping to identify systematic errors or trends in the model’s predictions.\n"
   ]
  },
  {
   "cell_type": "markdown",
   "metadata": {},
   "source": [
    "### Residuals vs Predicted Values"
   ]
  },
  {
   "cell_type": "code",
   "execution_count": 22,
   "metadata": {},
   "outputs": [
    {
     "data": {
      "image/png": "[encoded data removed]",
      "text/plain": [
       "<Figure size 950x200 with 1 Axes>"
      ]
     },
     "metadata": {},
     "output_type": "display_data"
    }
   ],
   "source": [
    "# Calculate the residuals by subtracting predicted values from actual values\n",
    "residuals = y_test - y_pred_rf\n",
    "\n",
    "# Create a figure for the residual plot with specified dimensions\n",
    "plt.figure(figsize=(9.5, 2))\n",
    "\n",
    "# Scatter plot showing the residuals against the predicted values\n",
    "plt.scatter(y_pred_rf, residuals)\n",
    "\n",
    "# Add a horizontal line at y=0 to indicate no error (perfect prediction)\n",
    "plt.axhline(0, color='red', linestyle='--')\n",
    "\n",
    "# Title for the plot indicating the comparison of residuals and predicted values\n",
    "plt.title('Residuals vs Predicted Values')\n",
    "\n",
    "# Label for the x-axis representing predicted values\n",
    "plt.xlabel('Predicted Values')\n",
    "\n",
    "# Label for the y-axis representing residuals (errors)\n",
    "plt.ylabel('Residuals')\n",
    "\n",
    "# Display the plot\n",
    "plt.show()\n"
   ]
  },
  {
   "cell_type": "markdown",
   "metadata": {},
   "source": [
    "   - > **Outcome**: If residuals are randomly scattered around zero, it suggests that the model has captured the data well. However, if patterns (e.g., a funnel shape or systematic bias) are observed, this indicates potential issues in the model, such as underfitting or overfitting, or that certain ranges of predicted values are being consistently misestimated.\n"
   ]
  },
  {
   "cell_type": "markdown",
   "metadata": {},
   "source": [
    "### Learning Curve Visualization"
   ]
  },
  {
   "cell_type": "code",
   "execution_count": 23,
   "metadata": {},
   "outputs": [
    {
     "data": {
      "image/png": "[encoded data removed]",
      "text/plain": [
       "<Figure size 950x400 with 1 Axes>"
      ]
     },
     "metadata": {},
     "output_type": "display_data"
    }
   ],
   "source": [
    "# Compute learning curves by training the model with different sizes of training data\n",
    "train_sizes, train_scores, test_scores = learning_curve(best_rf_model, X, y, cv=5)\n",
    "\n",
    "# Calculate the mean training scores across all cross-validation folds\n",
    "train_mean = train_scores.mean(axis=1)\n",
    "\n",
    "# Calculate the mean testing scores across all cross-validation folds\n",
    "test_mean = test_scores.mean(axis=1)\n",
    "\n",
    "# Create a figure for the learning curve with specified dimensions\n",
    "plt.figure(figsize=(9.5, 4))\n",
    "\n",
    "# Plot the mean training scores against the training sizes\n",
    "plt.plot(train_sizes, train_mean, label='Train score')\n",
    "\n",
    "# Plot the mean test scores against the training sizes\n",
    "plt.plot(train_sizes, test_mean, label='Test score')\n",
    "\n",
    "# Title for the plot indicating it represents a learning curve\n",
    "plt.title('Learning Curve')\n",
    "\n",
    "# Label for the x-axis representing the sizes of the training set\n",
    "plt.xlabel('Training Size')\n",
    "\n",
    "# Label for the y-axis representing the performance score of the model\n",
    "plt.ylabel('Score')\n",
    "\n",
    "# Add a legend to differentiate between training and testing scores\n",
    "plt.legend()\n",
    "\n",
    "# Display the plot\n",
    "plt.show()\n"
   ]
  },
  {
   "cell_type": "markdown",
   "metadata": {},
   "source": [
    "   - > **Outcome**: Ideally, both the training and testing scores would converge towards a high accuracy as training size increases. If the training score is high while the test score remains low, it indicates overfitting. Conversely, if both scores are low, this suggests underfitting. This information is invaluable for tuning model parameters and deciding whether more data is needed."
   ]
  },
  {
   "cell_type": "markdown",
   "metadata": {},
   "source": [
    "### Contrast Predictions with Actual Values in General"
   ]
  },
  {
   "cell_type": "code",
   "execution_count": 24,
   "metadata": {},
   "outputs": [
    {
     "data": {
      "image/png": "[encoded data removed]",
      "text/plain": [
       "<Figure size 950x450 with 1 Axes>"
      ]
     },
     "metadata": {},
     "output_type": "display_data"
    }
   ],
   "source": [
    "# Create a figure for the scatter plot with specified dimensions\n",
    "plt.figure(figsize=(9.5, 4.5))\n",
    "\n",
    "# Scatter plot showing the relationship between actual values and predicted values\n",
    "plt.scatter(y_test, y_pred_rf)\n",
    "\n",
    "# Plot a reference line for perfect predictions (y = x) using a dashed red line\n",
    "plt.plot([y_test.min(), y_test.max()], [y_test.min(), y_test.max()], '--', color='red')\n",
    "\n",
    "# Label for the x-axis representing actual values\n",
    "plt.xlabel('Actual')\n",
    "\n",
    "# Label for the y-axis representing predicted values\n",
    "plt.ylabel('Prediction')\n",
    "\n",
    "# Title for the plot indicating the overall comparison of predictions vs actual values\n",
    "plt.title('Predictions vs Actual Values Overall')\n",
    "\n",
    "# Display the plot\n",
    "plt.show()\n"
   ]
  },
  {
   "cell_type": "markdown",
   "metadata": {},
   "source": [
    "   - > **Outcome**: A good performance would show points clustered around the reference line, indicating that the model is consistently predicting well across all samples. Any significant spread indicates variability in prediction accuracy, which may require further investigation into specific data segments or features."
   ]
  },
  {
   "cell_type": "markdown",
   "metadata": {},
   "source": [
    "---"
   ]
  },
  {
   "cell_type": "markdown",
   "metadata": {},
   "source": [
    "## 10. Conclusion\n",
    "\n",
    "In this project, both the **Random Forest** and **Neural Network** models demonstrated their effectiveness in predicting renewable energy generation. \n",
    "\n",
    "> ### Performance Overview\n",
    "- The **Random Forest model** showcased notable strengths, particularly in its training speed and prediction accuracy. Its ability to handle high-dimensional data and capture complex interactions among features contributed to low error rates, making it a reliable choice for this type of analysis.\n",
    "- On the other hand, the **Neural Network model**, despite being slightly slower in training, also yielded satisfactory results. Neural networks are known for their capacity to model intricate relationships in data, and this project highlighted their potential in the realm of energy predictions. There remains room for further optimization in future iterations, particularly in tuning hyperparameters and experimenting with different architectures.\n",
    "\n",
    "> ### Future Directions\n",
    "Looking ahead, my goal is to push the boundaries of this work by implementing an advanced **Artificial Intelligence** system that can handle larger datasets using **Deep Learning** techniques. This AI would not only provide predictions but also enable interactive communication, allowing users to discuss energy-related challenges and propose actionable solutions for achieving a more sustainable future.\n",
    "\n",
    "To enhance this AI's capabilities, I plan to integrate **APIs** that deliver real-time data feeds, enabling the system to continuously update and refine its understanding of energy dynamics. By leveraging these data streams, the AI could analyze trends, identify inefficiencies, and suggest improvements, ultimately contributing to the development of smarter energy management solutions.\n",
    "\n",
    "In conclusion, while the current models performed admirably, this vision of a conversational, data-driven AI specialized in energy solutions presents an exciting avenue for future exploration.\n",
    "\n"
   ]
  },
  {
   "cell_type": "markdown",
   "metadata": {},
   "source": [
    "## 11. Acknowledgements\n",
    "\n",
    "I would like to express my heartfelt gratitude to **Ironhack Bootcamp** for all the invaluable knowledge and skills I've acquired throughout this journey. The experience has not only been educational but also incredibly enriching on a personal level. \n",
    "\n",
    "A special thanks to my amazing mentors, **Santiago, Antonio,** and **Nicolás**, whose guidance and support have been instrumental in my learning process. Your insights and encouragement have motivated me to push my limits and strive for excellence.\n",
    "\n",
    "I also want to extend my appreciation to all my fellow classmates. Thank you for the countless moments of laughter, collaboration, and hard work we shared together. These memories will stay with me as a testament to our collective journey. \n",
    "\n",
    "*Thank you all for being a part of this transformative experience!*\n"
   ]
  },
  {
   "cell_type": "markdown",
   "metadata": {},
   "source": [
    "*Carlos Vergara Gámez*"
   ]
  },
  {
   "cell_type": "markdown",
   "metadata": {},
   "source": [
    "---"
   ]
  }
 ],
 "metadata": {
  "kernelspec": {
   "display_name": "ml-dp",
   "language": "python",
   "name": "python3"
  },
  "language_info": {
   "codemirror_mode": {
    "name": "ipython",
    "version": 3
   },
   "file_extension": ".py",
   "mimetype": "text/x-python",
   "name": "python",
   "nbconvert_exporter": "python",
   "pygments_lexer": "ipython3",
   "version": "3.9.20"
  }
 },
 "nbformat": 4,
 "nbformat_minor": 2
}
