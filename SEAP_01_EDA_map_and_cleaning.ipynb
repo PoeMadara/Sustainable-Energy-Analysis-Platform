{
 "cells": [
  {
   "cell_type": "markdown",
   "metadata": {},
   "source": [
    "# Final Project: Sustainable Energy Analysis Platform (Part 1) \n",
    "\n",
    "*Historical Trends and Predicting Future Energy Efficiency and Demand in Clean Energy Transitions Using Machine Learning and Deep Learning Techniques between 1900 to 2074*"
   ]
  },
  {
   "cell_type": "markdown",
   "metadata": {},
   "source": [
    "- > The main objective of this project is to forecast energy generation from various renewable sources, including **solar**, **wind**, **hydroelectric**, and **biofuel** electricity. These predictions will be crucial for understanding the future trends in renewable energy, which plays an essential role in transitioning to cleaner energy solutions.\n",
    "\n",
    "- > To achieve this, we will employ **Machine Learning** and **Deep Learning** techniques to estimate energy production based on historical data. This initial notebook focuses on **exploratory data analysis (EDA)**, where we investigate the relationships between different variables and uncover potential predictors for our final models."
   ]
  },
  {
   "cell_type": "markdown",
   "metadata": {},
   "source": [
    "## Author\n",
    "\n",
    "### *Carlos Vergara Gámez*\n",
    "Github: https://github.com/PoeMadara\n",
    "\n",
    "Linkedin: https://www.linkedin.com/in/carlosvergaragamez/\n",
    "\n",
    "E-mail: carlos.poemadara@gmail.com"
   ]
  },
  {
   "cell_type": "markdown",
   "metadata": {},
   "source": [
    "## Source\n",
    "\n",
    "*The dataset utilized for this research was sourced from the following reference:*\n",
    "\n",
    "> Ritchie, H., Rosado, P., & Roser, M. (2023). *Energy*. Published online at **OurWorldinData.org**. Retrieved from: [https://ourworldindata.org/energy](https://ourworldindata.org/energy) [Online Resource]\n",
    "\n",
    "*This resource has been invaluable in providing comprehensive data for analyzing energy trends and facilitating informed insights in my research.*\n"
   ]
  },
  {
   "cell_type": "markdown",
   "metadata": {},
   "source": [
    "## 1. Importing Libraries\n",
    "I start by importing all the necessary libraries for data manipulation, visualization, and modeling."
   ]
  },
  {
   "cell_type": "code",
   "execution_count": 1,
   "metadata": {},
   "outputs": [],
   "source": [
    "import warnings\n",
    "warnings.filterwarnings(\"ignore\")  # Suppressing warnings for cleaner output\n",
    "import pandas as pd\n",
    "import seaborn as sns\n",
    "import matplotlib.pyplot as plt\n",
    "from sklearn.preprocessing import LabelEncoder  # For encoding categorical features\n",
    "import geopandas as gpd  # For geospatial data processing\n",
    "import folium  # For creating interactive maps\n",
    "from folium import plugins  # For additional folium features"
   ]
  },
  {
   "cell_type": "code",
   "execution_count": 2,
   "metadata": {},
   "outputs": [],
   "source": [
    "import os\n",
    "\n",
    "# Create a folder called \"maps\" if it doesn't exist\n",
    "os.makedirs('maps', exist_ok=True)"
   ]
  },
  {
   "cell_type": "markdown",
   "metadata": {},
   "source": [
    "## 2. Loading and Cleaning the Raw Data\n",
    "- In this section, I load the raw dataset from a CSV file. I create a copy of the DataFrame for cleaning purposes. Then, I handle missing values by filling them with zeros, which is just an example; this should be adjusted based on the specific cleaning logic you want to apply. Finally, I save the cleaned DataFrame back to a new CSV file.\n"
   ]
  },
  {
   "cell_type": "code",
   "execution_count": null,
   "metadata": {},
   "outputs": [],
   "source": [
    "# Load the raw file\n",
    "df_raw = pd.read_csv('data/raw/owid-energy-data.csv')\n",
    "\n",
    "df_cleaned = df_raw.copy()\n",
    "\n",
    "# Fill null values if necessary\n",
    "df_cleaned.fillna(0, inplace=True)\n",
    "\n",
    "# Save the cleaned file\n",
    "df_cleaned.to_csv('data/clean/cleaned_data_final.csv', index=False)\n",
    "\n",
    "print(\"Cleaned file saved\")"
   ]
  },
  {
   "cell_type": "markdown",
   "metadata": {},
   "source": [
    "## 3. Loading and Filtering the Clean Data\n",
    "- In this step, I load the cleaned dataset from the previously saved CSV file. I then select only the most relevant columns for analysis, focusing on energy production and consumption metrics, as well as socio-economic indicators. \n",
    "- After filtering the DataFrame, I apply Label Encoding to the categorical columns (`country` and `iso_code`) to convert them into numerical format. I drop the original categorical columns afterward since they are no longer needed. \n",
    "- Finally, I generate a correlation matrix and create a heatmap to visualize the relationships between the features.\n"
   ]
  },
  {
   "cell_type": "code",
   "execution_count": null,
   "metadata": {},
   "outputs": [],
   "source": [
    "# Load the cleaned data\n",
    "df = pd.read_csv('data/clean/cleaned_data_final.csv')\n",
    "\n",
    "# Select only the most relevant columns\n",
    "columns_to_keep = [\n",
    "    'solar_electricity', 'wind_electricity', 'biofuel_electricity', 'hydro_electricity',\n",
    "    'population', 'gdp', 'electricity_demand', 'energy_per_capita', 'energy_per_gdp',\n",
    "    'solar_consumption', 'wind_consumption', 'biofuel_consumption', 'hydro_consumption',\n",
    "    'country', 'iso_code', 'year'  # Example of categorical columns\n",
    "]\n",
    "\n",
    "df_filtered = df[columns_to_keep]\n",
    "\n",
    "# Apply Label Encoding to categorical columns (if necessary)\n",
    "le = LabelEncoder()\n",
    "df_filtered['country_encoded'] = le.fit_transform(df_filtered['country'])\n",
    "df_filtered['iso_code_encoded'] = le.fit_transform(df_filtered['iso_code'])\n",
    "\n",
    "# Drop original categorical columns if no longer needed\n",
    "df_filtered = df_filtered.drop(columns=['country', 'iso_code'])\n",
    "\n",
    "# Generate the correlation matrix\n",
    "corr_matrix = df_filtered.corr()\n",
    "\n",
    "# Create a heatmap of the correlation\n",
    "plt.figure(figsize=(12, 8))\n",
    "sns.heatmap(corr_matrix, annot=True, cmap='coolwarm', linewidths=0.5)\n",
    "plt.title(\"Enhanced Correlation Matrix\")\n",
    "plt.show()"
   ]
  },
  {
   "cell_type": "markdown",
   "metadata": {},
   "source": [
    "1. **High correlation among renewable energies**: There is a strong positive relationship between solar, wind, and biofuel energy production.\n",
    "2. **Electricity demand and renewables**: Electricity demand is highly correlated with the production of renewable energy.\n",
    "3. **Energy consumption with renewables**: Energy consumption shows a positive correlation with renewable energy production, indicating that higher renewable output often leads to increased energy use.\n"
   ]
  },
  {
   "cell_type": "markdown",
   "metadata": {},
   "source": [
    "## 4. Analyzing Energy Consumption by Country\n",
    "- In this section, I focus on the renewable energy consumption columns. I first group the data by country and sum the consumption values for each type of energy source. \n",
    "- I then calculate the total energy consumption for each country by summing the individual consumption columns. \n",
    "- Finally, I filter the top 10 countries with the highest total consumption and visualize this data using a horizontal stacked bar chart, which provides a clear comparison of energy consumption across different countries.\n"
   ]
  },
  {
   "cell_type": "code",
   "execution_count": null,
   "metadata": {},
   "outputs": [],
   "source": [
    "# Consumption columns\n",
    "consumo_columns = ['solar_consumption', 'wind_consumption', 'biofuel_consumption', 'hydro_consumption']\n",
    "\n",
    "# Sum consumption by country\n",
    "df_consumo = df.groupby('country')[consumo_columns].sum().reset_index()\n",
    "\n",
    "# Calculate total energy consumption for each country\n",
    "df_consumo['total_consumption'] = df_consumo[consumo_columns].sum(axis=1)\n",
    "\n",
    "# Filter top countries with highest total consumption (e.g., top 10)\n",
    "df_top_countries = df_consumo.nlargest(10, 'total_consumption')\n",
    "\n",
    "# Style: Horizontal Bar Chart\n",
    "plt.figure(figsize=(15, 10))\n",
    "df_top_countries.set_index('country')[consumo_columns].plot(kind='barh', stacked=True)\n",
    "plt.title('Renewable Energy Consumption by Countries (Top 10)')\n",
    "plt.xlabel('Consumption (TWh)')\n",
    "plt.ylabel('Countries')\n",
    "plt.legend(title='Energy Type')\n",
    "plt.show()\n"
   ]
  },
  {
   "cell_type": "markdown",
   "metadata": {},
   "source": [
    "Renewable Energy Consumption by Country (Top 10)\n",
    "\n",
    "Bar Chart Analysis\n",
    "\n",
    "- Dominance of Hydroelectric Power: Hydroelectric energy is the most consumed renewable energy source across all regions and globally.\n",
    "- Growth of Solar and Wind Energy: There is an increase in the consumption of solar and wind energy.\n",
    "- Regional Variations: Consumption patterns vary significantly between regions.\n",
    "\n",
    "Summary\n",
    "\n",
    "The chart highlights the global dependence on hydroelectricity and the growing role of solar and wind energy."
   ]
  },
  {
   "cell_type": "markdown",
   "metadata": {},
   "source": [
    "## 5. Plotting Renewable Electricity Trends\n",
    "- This section focuses on visualizing the trends of renewable electricity sources and electricity demand over time. \n",
    "- First, I load the cleaned dataset and define the specific columns to plot, which include various types of renewable electricity and electricity demand.\n",
    "- I filter the dataset to include only the data from the year 1960 onwards.\n",
    "- The data is then grouped by year, and the mean values for the specified columns are calculated. \n",
    "- Finally, I create a line plot to illustrate the evolution of renewable electricity and electricity demand, enhancing the visualization with titles, labels, and gridlines for clarity."
   ]
  },
  {
   "cell_type": "code",
   "execution_count": null,
   "metadata": {},
   "outputs": [],
   "source": [
    "# Load cleaned data\n",
    "df = pd.read_csv('data/clean/cleaned_data_final.csv')\n",
    "\n",
    "# Define columns to plot\n",
    "columns_to_plot = [\n",
    "    'solar_electricity', \n",
    "    'wind_electricity', \n",
    "    'biofuel_electricity', \n",
    "    'hydro_electricity',\n",
    "    'electricity_demand'\n",
    "]\n",
    "\n",
    "# Filter data from 1960 onwards\n",
    "df_filtered = df[df['year'] >= 1960]\n",
    "\n",
    "# Group by year and calculate mean\n",
    "df_plot_grouped = df_filtered.groupby('year')[columns_to_plot].mean().reset_index()\n",
    "\n",
    "# Line plot\n",
    "plt.figure(figsize=(8, 5))\n",
    "for column in columns_to_plot:\n",
    "    plt.plot(df_plot_grouped['year'], df_plot_grouped[column], label=column)\n",
    "\n",
    "# Improve visualization\n",
    "plt.title('Trends of Renewable Electricity and Electricity Demand Worldwide (Since 1960)')\n",
    "plt.xlabel('Year')\n",
    "plt.ylabel('Values (Annual Averages)')  # Specify that these are mean annual values\n",
    "plt.xticks(rotation=45)  # Rotate x-axis labels for better readability\n",
    "plt.yticks(fontsize=10)  # Adjust y-axis label size\n",
    "plt.legend(title='Variables', fontsize=10)  # Title for the legend\n",
    "plt.grid(True, linestyle='--', alpha=0.7)  # Improve grid visibility\n",
    "\n",
    "plt.tight_layout()  # Adjust layout to prevent overlap of elements\n",
    "plt.show()\n",
    "\n"
   ]
  },
  {
   "cell_type": "markdown",
   "metadata": {},
   "source": [
    "* **Overall increasing trend in renewable electricity:** The graph shows a clear upward trend in the production of solar, wind, biofuel, and hydroelectric electricity over the years. This indicates a growing global reliance on renewable energy sources.\n",
    "* **Dominance of hydroelectric power:** Hydroelectric power has been the most significant contributor to renewable electricity generation for a long time. However, solar and wind energy have shown substantial growth in recent decades. \n",
    "* **Growing electricity demand:** The purple line representing total electricity demand also shows a consistent upward trend, suggesting a growing global need for energy. This trend highlights the importance of increasing renewable energy production to meet rising energy demands. "
   ]
  },
  {
   "cell_type": "markdown",
   "metadata": {},
   "source": [
    "## 6. Creating an Interactive World Map of Renewable Energy\n",
    "- In this section, I group the filtered data by country and calculate the mean values for the specified columns related to renewable energy.\n",
    "- I replace \"United States\" with \"United States of America\" to ensure consistency when merging with the world shapefile.\n",
    "- After loading the world shapefile, I merge it with the aggregated DataFrame to combine geographical and energy consumption data.\n",
    "- I create a base map using Folium, then add choropleth layers for each type of renewable energy, using a color scale based on the average values from the DataFrame.\n",
    "- The final map includes dynamic legends and controls for the different energy types, and is saved as an interactive HTML file for visualization."
   ]
  },
  {
   "cell_type": "code",
   "execution_count": 7,
   "metadata": {},
   "outputs": [],
   "source": [
    "# Group and calculate mean for desired columns\n",
    "df_grouped = df_filtered.groupby(['country'])[columns_to_plot].mean().reset_index()\n",
    "\n",
    "# Replace \"United States\" with \"United States of America\"\n",
    "df_grouped['country'] = df_grouped['country'].replace('United States', 'United States of America')\n",
    "\n",
    "# Load world shapefile\n",
    "world = gpd.read_file('shapefiles/ne_110m_admin_0_countries.shp')\n",
    "\n",
    "# Merge DataFrame with the map using 'ADMIN' column\n",
    "world = world.merge(df_grouped, how=\"left\", left_on=\"ADMIN\", right_on=\"country\")\n",
    "\n",
    "# Create base map\n",
    "m = folium.Map(location=[20, 0], zoom_start=2)\n",
    "\n",
    "# Add layers for each type of energy\n",
    "for column in columns_to_plot:\n",
    "    # Define color scale based on unique values of each column\n",
    "    folium.Choropleth(\n",
    "        geo_data=world,\n",
    "        name=column,\n",
    "        data=df_grouped,\n",
    "        columns=['country', column],\n",
    "        key_on='feature.properties.ADMIN',\n",
    "        fill_color='YlGn',  # Change to other color schemes if necessary\n",
    "        fill_opacity=0.7,\n",
    "        line_opacity=0.2,\n",
    "        legend_name=f'Average {column.replace(\"_\", \" \").title()}',  # Dynamic legend\n",
    "        missing_kwds={\"color\": \"lightgrey\", \"label\": \"No data\"},\n",
    "        # Adding the color range\n",
    "        threshold_scale=df_grouped[column].quantile([0, 0.25, 0.5, 0.75, 1]).tolist()\n",
    "    ).add_to(m)\n",
    "\n",
    "# Add layer controls\n",
    "folium.LayerControl().add_to(m)\n",
    "\n",
    "# Show map\n",
    "m.save('maps/seap_interactive_world_map_seap.html')"
   ]
  },
  {
   "cell_type": "markdown",
   "metadata": {},
   "source": [
    "## Display the World Map!"
   ]
  },
  {
   "cell_type": "code",
   "execution_count": null,
   "metadata": {},
   "outputs": [],
   "source": [
    "# Uncomment the line below to display the world map.\n",
    "# m"
   ]
  },
  {
   "cell_type": "markdown",
   "metadata": {},
   "source": [
    "**NOTE:**  You can see this map on the repository!"
   ]
  },
  {
   "cell_type": "markdown",
   "metadata": {},
   "source": [
    "## 7. Creating an Interactive Map of European Countries\n",
    "- In this section, I define a list of European countries to filter the dataset specifically for Europe.\n",
    "- I filter the GeoDataFrame to include only the countries in Europe, ensuring that the geographical context is limited to the desired region.\n",
    "- A base map is created, centered on Europe, to enhance the visualization of energy data across the selected countries.\n",
    "- I add choropleth layers for each specified type of renewable energy, visualizing the average values of energy consumption across the European countries in the list.\n",
    "- Layer controls are incorporated to enable users to switch between different energy types, enhancing the interactivity of the map.\n",
    "- Finally, the map is saved as an HTML file for easy access and interactive viewing."
   ]
  },
  {
   "cell_type": "code",
   "execution_count": 9,
   "metadata": {},
   "outputs": [],
   "source": [
    "list_of_european_countries = [\n",
    "    'Germany', 'France', 'United Kingdom', 'Italy', 'Spain', 'Netherlands', \n",
    "    'Belgium', 'Sweden', 'Austria', 'Denmark', 'Finland', 'Norway', 'Poland', \n",
    "    'Portugal', 'Czech Republic', 'Hungary', 'Greece', 'Ireland', 'Romania', \n",
    "    'Switzerland', 'Bulgaria', 'Slovakia', 'Croatia', 'Lithuania', 'Slovenia', \n",
    "    'Latvia', 'Estonia', 'Cyprus', 'Malta'\n",
    "]\n",
    "\n",
    "# Filter the GeoDataFrame to get only Europe\n",
    "eu_df = world[world['NAME'].isin(list_of_european_countries)]\n",
    "\n",
    "# Create a base map centered on Europe\n",
    "m = folium.Map(location=[50, 10], zoom_start=4)\n",
    "\n",
    "# Add the Choropleth for European countries\n",
    "for column in columns_to_plot:\n",
    "    folium.Choropleth(\n",
    "        geo_data=eu_df,\n",
    "        name=column,\n",
    "        data=eu_df,\n",
    "        columns=['country', column],\n",
    "        key_on='feature.properties.NAME',\n",
    "        fill_color='YlGn',\n",
    "        fill_opacity=0.7,\n",
    "        line_opacity=0.2,\n",
    "        legend_name=f'Average {column.replace(\"_\", \" \").title()}',\n",
    "        missing_kwds={\"color\": \"lightgrey\", \"label\": \"No data\"},\n",
    "    ).add_to(m)\n",
    "\n",
    "# Add layer controls\n",
    "folium.LayerControl().add_to(m)\n",
    "\n",
    "# Show the map\n",
    "m.save('maps/seap_interactive_european_map.html')"
   ]
  },
  {
   "cell_type": "markdown",
   "metadata": {},
   "source": [
    "### Display the European Map!"
   ]
  },
  {
   "cell_type": "code",
   "execution_count": null,
   "metadata": {},
   "outputs": [],
   "source": [
    "# Uncomment the line below to display the european map.\n",
    "# m"
   ]
  },
  {
   "cell_type": "markdown",
   "metadata": {},
   "source": [
    "**NOTE:**  You can see this map on the repository!"
   ]
  },
  {
   "cell_type": "markdown",
   "metadata": {},
   "source": [
    "## 8. More Data Visualizations\n",
    "- In this section, I create some visualizations to analyze trends in energy consumption and production over time.\n",
    "- The first visualization shows the trends of different types of electricity generation (solar, wind, hydro, and biofuel) over the years.\n",
    "- The second visualization presents a bar chart comparing electricity demand and generation annually, highlighting their relationship and trends."
   ]
  },
  {
   "cell_type": "code",
   "execution_count": 11,
   "metadata": {},
   "outputs": [],
   "source": [
    "df = pd.read_csv('data/clean/cleaned_data_final.csv')\n",
    "\n",
    "# Filter the DataFrame to include data from 1960 onwards\n",
    "df_filtered = df[df['year'] >= 1960]"
   ]
  },
  {
   "cell_type": "markdown",
   "metadata": {},
   "source": [
    "### 8.1 Energy Trends Over Time"
   ]
  },
  {
   "cell_type": "code",
   "execution_count": null,
   "metadata": {},
   "outputs": [],
   "source": [
    "# Energy trends over time\n",
    "plt.figure(figsize=(9, 5))\n",
    "sns.lineplot(data=df_filtered, x='year', y='solar_electricity', label='Solar Electricity')\n",
    "sns.lineplot(data=df_filtered, x='year', y='wind_electricity', label='Wind Electricity')\n",
    "sns.lineplot(data=df_filtered, x='year', y='hydro_electricity', label='Hydro Electricity')\n",
    "sns.lineplot(data=df_filtered, x='year', y='biofuel_electricity', label='Biofuel Electricity')\n",
    "plt.title('Energy Trends Over Time')\n",
    "plt.xlabel('Year')\n",
    "plt.ylabel('Electricity (TWh)')\n",
    "plt.legend()\n",
    "plt.show()\n"
   ]
  },
  {
   "cell_type": "markdown",
   "metadata": {},
   "source": [
    "- > **Outcome:** The most striking trend observed in the graph is the exponential growth of solar and wind electricity generation. In contrast, hydroelectric and biofuel electricity sources have shown more modest growth or even slight declines. This suggests a clear shift towards renewable energy sources, particularly solar and wind power, in recent decades."
   ]
  },
  {
   "cell_type": "markdown",
   "metadata": {},
   "source": [
    "### 8.2 Electricity Demand and Generation Over Years"
   ]
  },
  {
   "cell_type": "code",
   "execution_count": null,
   "metadata": {},
   "outputs": [],
   "source": [
    "plt.figure(figsize=(9, 5))\n",
    "sns.lineplot(data=df_filtered, x='year', y='electricity_demand', label='Electricity Demand', marker='o')\n",
    "sns.lineplot(data=df_filtered, x='year', y='electricity_generation', label='Electricity Generation', marker='o')\n",
    "plt.title('Electricity Demand and Generation Over Years')\n",
    "plt.xlabel('Year')\n",
    "plt.ylabel('Total (in TWh)')\n",
    "plt.legend()\n",
    "plt.grid()\n",
    "plt.show()\n",
    "\n"
   ]
  },
  {
   "cell_type": "markdown",
   "metadata": {},
   "source": [
    "- > **Outcome:**  The graph shows a substantial increase in electricity demand and generation over several decades, particularly around the year 2000. This period marks a strong correlation between the two metrics, indicating a simultaneous rise in demand and generation."
   ]
  },
  {
   "cell_type": "markdown",
   "metadata": {},
   "source": [
    "## 10. Next Step\n",
    "\n",
    "Now that we've completed the initial analysis and visualization, it's time to move on to the second part of the project. \n",
    "\n",
    "We'll delve into **Machine Learning and Deep Learning** techniques to further enhance our findings and predictions. \n",
    "\n",
    "You can access this section in the following notebook:\n",
    "\n",
    "[SEAP_02_Machine_Learning_and_Deep_Learning.ipynb](SEAP_02_Machine_Learning_and_Deep_Learning.ipynb)\n",
    "\n"
   ]
  },
  {
   "cell_type": "markdown",
   "metadata": {},
   "source": [
    "---"
   ]
  }
 ],
 "metadata": {
  "kernelspec": {
   "display_name": "ml-dp",
   "language": "python",
   "name": "python3"
  },
  "language_info": {
   "codemirror_mode": {
    "name": "ipython",
    "version": 3
   },
   "file_extension": ".py",
   "mimetype": "text/x-python",
   "name": "python",
   "nbconvert_exporter": "python",
   "pygments_lexer": "ipython3",
   "version": "3.9.20"
  }
 },
 "nbformat": 4,
 "nbformat_minor": 2
}
