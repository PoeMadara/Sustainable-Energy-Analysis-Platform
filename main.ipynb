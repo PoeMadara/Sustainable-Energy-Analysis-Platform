{
 "cells": [
  {
   "cell_type": "code",
   "execution_count": null,
   "metadata": {},
   "outputs": [],
   "source": [
    "# Importar las funciones desde functions.py\n",
    "from functions import load_and_clean_data, split_data\n",
    "\n",
    "# Ruta del dataset (ajusta la ruta según sea necesario)\n",
    "dataset_path = 'owid-energy-data.csv'\n",
    "\n",
    "# Cargar y limpiar los datos\n",
    "df_clean = load_and_clean_data(dataset_path)\n",
    "\n",
    "# Ver las primeras filas para asegurarnos de que los datos están limpios\n",
    "print(df_clean.head())\n",
    "\n",
    "# Dividir los datos en entrenamiento y prueba\n",
    "X_train, X_test, y_train, y_test = split_data(df_clean)\n",
    "\n",
    "# Imprimir las formas de los conjuntos de datos\n",
    "print(f\"X_train shape: {X_train.shape}\")\n",
    "print(f\"X_test shape: {X_test.shape}\")\n",
    "print(f\"y_train shape: {y_train.shape}\")\n",
    "print(f\"y_test shape: {y_test.shape}\")\n"
   ]
  }
 ],
 "metadata": {
  "language_info": {
   "name": "python"
  }
 },
 "nbformat": 4,
 "nbformat_minor": 2
}
